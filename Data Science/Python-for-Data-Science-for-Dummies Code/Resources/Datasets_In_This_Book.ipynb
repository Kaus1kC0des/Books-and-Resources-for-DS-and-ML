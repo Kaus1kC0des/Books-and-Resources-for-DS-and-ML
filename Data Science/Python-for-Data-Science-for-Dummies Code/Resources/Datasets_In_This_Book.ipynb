{
 "cells": [
  {
   "cell_type": "code",
   "execution_count": 5,
   "metadata": {},
   "outputs": [
    {
     "output_type": "stream",
     "name": "stdout",
     "text": "(150, 4)\n"
    }
   ],
   "source": [
    "from sklearn.datasets import load_iris\n",
    "Iris = load_iris()\n",
    "print(Iris.data.shape)"
   ]
  },
  {
   "cell_type": "code",
   "execution_count": 6,
   "metadata": {},
   "outputs": [
    {
     "output_type": "stream",
     "name": "stdout",
     "text": "(442, 10)\n"
    }
   ],
   "source": [
    "from sklearn.datasets import load_diabetes\n",
    "Diabetes = load_diabetes()\n",
    "print(Diabetes.data.shape)"
   ]
  },
  {
   "cell_type": "code",
   "execution_count": 7,
   "metadata": {},
   "outputs": [
    {
     "output_type": "stream",
     "name": "stdout",
     "text": "(1797, 64)\n"
    }
   ],
   "source": [
    "from sklearn.datasets import load_digits\n",
    "Digits = load_digits()\n",
    "print(Digits.data.shape)"
   ]
  },
  {
   "cell_type": "code",
   "execution_count": 13,
   "metadata": {},
   "outputs": [
    {
     "output_type": "error",
     "ename": "AttributeError",
     "evalue": "'list' object has no attribute 'shape'",
     "traceback": [
      "\u001b[1;31m---------------------------------------------------------------------------\u001b[0m",
      "\u001b[1;31mAttributeError\u001b[0m                            Traceback (most recent call last)",
      "\u001b[1;32m<ipython-input-13-77205f201e2c>\u001b[0m in \u001b[0;36m<module>\u001b[1;34m\u001b[0m\n\u001b[0;32m      1\u001b[0m \u001b[1;32mfrom\u001b[0m \u001b[0msklearn\u001b[0m\u001b[1;33m.\u001b[0m\u001b[0mdatasets\u001b[0m \u001b[1;32mimport\u001b[0m \u001b[0mfetch_20newsgroups\u001b[0m\u001b[1;33m\u001b[0m\u001b[1;33m\u001b[0m\u001b[0m\n\u001b[0;32m      2\u001b[0m \u001b[0mNews\u001b[0m \u001b[1;33m=\u001b[0m \u001b[0mfetch_20newsgroups\u001b[0m\u001b[1;33m(\u001b[0m\u001b[1;33m)\u001b[0m\u001b[1;33m\u001b[0m\u001b[1;33m\u001b[0m\u001b[0m\n\u001b[1;32m----> 3\u001b[1;33m \u001b[0mprint\u001b[0m\u001b[1;33m(\u001b[0m\u001b[0mNews\u001b[0m\u001b[1;33m.\u001b[0m\u001b[0mdata\u001b[0m\u001b[1;33m.\u001b[0m\u001b[0mshape\u001b[0m\u001b[1;33m)\u001b[0m\u001b[1;33m\u001b[0m\u001b[1;33m\u001b[0m\u001b[0m\n\u001b[0m",
      "\u001b[1;31mAttributeError\u001b[0m: 'list' object has no attribute 'shape'"
     ]
    }
   ],
   "source": [
    "from sklearn.datasets import fetch_20newsgroups\n",
    "News = fetch_20newsgroups()\n",
    "print(News.data.shape)"
   ]
  },
  {
   "cell_type": "code",
   "execution_count": 10,
   "metadata": {},
   "outputs": [
    {
     "output_type": "stream",
     "name": "stdout",
     "text": "downloading Olivetti faces from https://ndownloader.figshare.com/files/5976027 to C:\\Users\\lynst\\scikit_learn_data\n{'data': array([[0.30991736, 0.3677686 , 0.41735536, ..., 0.15289256, 0.16115703,\n        0.1570248 ],\n       [0.45454547, 0.47107437, 0.5123967 , ..., 0.15289256, 0.15289256,\n        0.15289256],\n       [0.3181818 , 0.40082645, 0.49173555, ..., 0.14049587, 0.14876033,\n        0.15289256],\n       ...,\n       [0.5       , 0.53305787, 0.607438  , ..., 0.17768595, 0.14876033,\n        0.19008264],\n       [0.21487603, 0.21900827, 0.21900827, ..., 0.57438016, 0.59090906,\n        0.60330576],\n       [0.5165289 , 0.46280992, 0.28099173, ..., 0.35950413, 0.3553719 ,\n        0.38429752]], dtype=float32), 'images': array([[[0.30991736, 0.3677686 , 0.41735536, ..., 0.37190083,\n         0.3305785 , 0.30578512],\n        [0.3429752 , 0.40495867, 0.43801653, ..., 0.37190083,\n         0.338843  , 0.3140496 ],\n        [0.3429752 , 0.41735536, 0.45041323, ..., 0.38016528,\n         0.338843  , 0.29752067],\n        ...,\n        [0.21487603, 0.20661157, 0.2231405 , ..., 0.15289256,\n         0.16528925, 0.17355372],\n        [0.20247933, 0.2107438 , 0.2107438 , ..., 0.14876033,\n         0.16115703, 0.16528925],\n        [0.20247933, 0.20661157, 0.20247933, ..., 0.15289256,\n         0.16115703, 0.1570248 ]],\n\n       [[0.45454547, 0.47107437, 0.5123967 , ..., 0.19008264,\n         0.18595041, 0.18595041],\n        [0.446281  , 0.48347107, 0.5206612 , ..., 0.21487603,\n         0.2107438 , 0.2107438 ],\n        [0.49586776, 0.5165289 , 0.53305787, ..., 0.20247933,\n         0.20661157, 0.20661157],\n        ...,\n        [0.77272725, 0.78099173, 0.7933884 , ..., 0.1446281 ,\n         0.1446281 , 0.1446281 ],\n        [0.77272725, 0.7768595 , 0.7892562 , ..., 0.13636364,\n         0.13636364, 0.13636364],\n        [0.7644628 , 0.7892562 , 0.78099173, ..., 0.15289256,\n         0.15289256, 0.15289256]],\n\n       [[0.3181818 , 0.40082645, 0.49173555, ..., 0.40082645,\n         0.3553719 , 0.30991736],\n        [0.30991736, 0.3966942 , 0.47933885, ..., 0.40495867,\n         0.37603307, 0.30165288],\n        [0.26859504, 0.34710744, 0.45454547, ..., 0.3966942 ,\n         0.37190083, 0.30991736],\n        ...,\n        [0.1322314 , 0.09917355, 0.08264463, ..., 0.13636364,\n         0.14876033, 0.15289256],\n        [0.11570248, 0.09504132, 0.0785124 , ..., 0.1446281 ,\n         0.1446281 , 0.1570248 ],\n        [0.11157025, 0.09090909, 0.0785124 , ..., 0.14049587,\n         0.14876033, 0.15289256]],\n\n       ...,\n\n       [[0.5       , 0.53305787, 0.607438  , ..., 0.28512397,\n         0.23966943, 0.21487603],\n        [0.49173555, 0.5413223 , 0.60330576, ..., 0.29752067,\n         0.20247933, 0.20661157],\n        [0.46694216, 0.55785125, 0.6198347 , ..., 0.29752067,\n         0.17768595, 0.18595041],\n        ...,\n        [0.03305785, 0.46280992, 0.5289256 , ..., 0.17355372,\n         0.17355372, 0.1694215 ],\n        [0.1570248 , 0.5247934 , 0.53305787, ..., 0.16528925,\n         0.1570248 , 0.18595041],\n        [0.45454547, 0.5206612 , 0.53305787, ..., 0.17768595,\n         0.14876033, 0.19008264]],\n\n       [[0.21487603, 0.21900827, 0.21900827, ..., 0.71487606,\n         0.71487606, 0.6942149 ],\n        [0.20247933, 0.20661157, 0.20661157, ..., 0.7107438 ,\n         0.7066116 , 0.6942149 ],\n        [0.2107438 , 0.20661157, 0.20661157, ..., 0.6859504 ,\n         0.69008267, 0.6942149 ],\n        ...,\n        [0.2644628 , 0.25619835, 0.2603306 , ..., 0.5413223 ,\n         0.57438016, 0.59090906],\n        [0.26859504, 0.2644628 , 0.26859504, ..., 0.56198347,\n         0.58264464, 0.59504133],\n        [0.27272728, 0.26859504, 0.27272728, ..., 0.57438016,\n         0.59090906, 0.60330576]],\n\n       [[0.5165289 , 0.46280992, 0.28099173, ..., 0.5785124 ,\n         0.5413223 , 0.60330576],\n        [0.5165289 , 0.45041323, 0.29338843, ..., 0.58264464,\n         0.553719  , 0.5785124 ],\n        [0.5165289 , 0.44214877, 0.29338843, ..., 0.59917355,\n         0.5785124 , 0.54545456],\n        ...,\n        [0.39256197, 0.41322315, 0.38842976, ..., 0.33471075,\n         0.37190083, 0.3966942 ],\n        [0.39256197, 0.38429752, 0.40495867, ..., 0.3305785 ,\n         0.35950413, 0.37603307],\n        [0.3677686 , 0.40495867, 0.3966942 , ..., 0.35950413,\n         0.3553719 , 0.38429752]]], dtype=float32), 'target': array([ 0,  0,  0,  0,  0,  0,  0,  0,  0,  0,  1,  1,  1,  1,  1,  1,  1,\n        1,  1,  1,  2,  2,  2,  2,  2,  2,  2,  2,  2,  2,  3,  3,  3,  3,\n        3,  3,  3,  3,  3,  3,  4,  4,  4,  4,  4,  4,  4,  4,  4,  4,  5,\n        5,  5,  5,  5,  5,  5,  5,  5,  5,  6,  6,  6,  6,  6,  6,  6,  6,\n        6,  6,  7,  7,  7,  7,  7,  7,  7,  7,  7,  7,  8,  8,  8,  8,  8,\n        8,  8,  8,  8,  8,  9,  9,  9,  9,  9,  9,  9,  9,  9,  9, 10, 10,\n       10, 10, 10, 10, 10, 10, 10, 10, 11, 11, 11, 11, 11, 11, 11, 11, 11,\n       11, 12, 12, 12, 12, 12, 12, 12, 12, 12, 12, 13, 13, 13, 13, 13, 13,\n       13, 13, 13, 13, 14, 14, 14, 14, 14, 14, 14, 14, 14, 14, 15, 15, 15,\n       15, 15, 15, 15, 15, 15, 15, 16, 16, 16, 16, 16, 16, 16, 16, 16, 16,\n       17, 17, 17, 17, 17, 17, 17, 17, 17, 17, 18, 18, 18, 18, 18, 18, 18,\n       18, 18, 18, 19, 19, 19, 19, 19, 19, 19, 19, 19, 19, 20, 20, 20, 20,\n       20, 20, 20, 20, 20, 20, 21, 21, 21, 21, 21, 21, 21, 21, 21, 21, 22,\n       22, 22, 22, 22, 22, 22, 22, 22, 22, 23, 23, 23, 23, 23, 23, 23, 23,\n       23, 23, 24, 24, 24, 24, 24, 24, 24, 24, 24, 24, 25, 25, 25, 25, 25,\n       25, 25, 25, 25, 25, 26, 26, 26, 26, 26, 26, 26, 26, 26, 26, 27, 27,\n       27, 27, 27, 27, 27, 27, 27, 27, 28, 28, 28, 28, 28, 28, 28, 28, 28,\n       28, 29, 29, 29, 29, 29, 29, 29, 29, 29, 29, 30, 30, 30, 30, 30, 30,\n       30, 30, 30, 30, 31, 31, 31, 31, 31, 31, 31, 31, 31, 31, 32, 32, 32,\n       32, 32, 32, 32, 32, 32, 32, 33, 33, 33, 33, 33, 33, 33, 33, 33, 33,\n       34, 34, 34, 34, 34, 34, 34, 34, 34, 34, 35, 35, 35, 35, 35, 35, 35,\n       35, 35, 35, 36, 36, 36, 36, 36, 36, 36, 36, 36, 36, 37, 37, 37, 37,\n       37, 37, 37, 37, 37, 37, 38, 38, 38, 38, 38, 38, 38, 38, 38, 38, 39,\n       39, 39, 39, 39, 39, 39, 39, 39, 39]), 'DESCR': '.. _olivetti_faces_dataset:\\n\\nThe Olivetti faces dataset\\n--------------------------\\n\\n`This dataset contains a set of face images`_ taken between April 1992 and \\nApril 1994 at AT&T Laboratories Cambridge. The\\n:func:`sklearn.datasets.fetch_olivetti_faces` function is the data\\nfetching / caching function that downloads the data\\narchive from AT&T.\\n\\n.. _This dataset contains a set of face images: http://www.cl.cam.ac.uk/research/dtg/attarchive/facedatabase.html\\n\\nAs described on the original website:\\n\\n    There are ten different images of each of 40 distinct subjects. For some\\n    subjects, the images were taken at different times, varying the lighting,\\n    facial expressions (open / closed eyes, smiling / not smiling) and facial\\n    details (glasses / no glasses). All the images were taken against a dark\\n    homogeneous background with the subjects in an upright, frontal position \\n    (with tolerance for some side movement).\\n\\n**Data Set Characteristics:**\\n\\n    =================   =====================\\n    Classes                                40\\n    Samples total                         400\\n    Dimensionality                       4096\\n    Features            real, between 0 and 1\\n    =================   =====================\\n\\nThe image is quantized to 256 grey levels and stored as unsigned 8-bit \\nintegers; the loader will convert these to floating point values on the \\ninterval [0, 1], which are easier to work with for many algorithms.\\n\\nThe \"target\" for this database is an integer from 0 to 39 indicating the\\nidentity of the person pictured; however, with only 10 examples per class, this\\nrelatively small dataset is more interesting from an unsupervised or\\nsemi-supervised perspective.\\n\\nThe original dataset consisted of 92 x 112, while the version available here\\nconsists of 64x64 images.\\n\\nWhen using these images, please give credit to AT&T Laboratories Cambridge.\\n'}\n"
    }
   ],
   "source": [
    "from sklearn.datasets import fetch_olivetti_faces\n",
    "olivettiFaces = fetch_olivetti_faces()\n",
    "print(olivettiFaces)"
   ]
  },
  {
   "cell_type": "code",
   "execution_count": 11,
   "metadata": {},
   "outputs": [],
   "source": [
    "%matplotlib inline"
   ]
  },
  {
   "cell_type": "code",
   "execution_count": 6,
   "metadata": {},
   "outputs": [
    {
     "data": {
      "image/png": "[encoded data removed]",
      "text/plain": [
       "<Figure size 432x288 with 1 Axes>"
      ]
     },
     "metadata": {
      "needs_background": "light"
     },
     "output_type": "display_data"
    }
   ],
   "source": [
    "# %load https://matplotlib.org/-downloads/pyplot_text.py\n",
    "\"\"\"\n",
    "===========\n",
    "Pyplot Text\n",
    "===========\n",
    "\n",
    "\"\"\"\n",
    "\n",
    "import numpy as np\n",
    "import matplotlib.pyplot as plt\n",
    "\n",
    "# Fixing random state for reproducibility\n",
    "np.random.seed(19680801)\n",
    "\n",
    "mu, sigma = 100, 15\n",
    "x = mu + sigma * np.random.randn(10000)\n",
    "\n",
    "# the histogram of the data\n",
    "n, bins, patches = plt.hist(x, 50, density=True, facecolor='y', alpha=0.75)\n",
    "\n",
    "plt.xlabel('IQ Values')\n",
    "plt.ylabel('Probability')\n",
    "plt.title('Histogram of IQ Values')\n",
    "plt.text(60, .025, r'$\\mu=100,\\ \\sigma=15$')\n",
    "plt.axis([40, 160, 0, 0.03])\n",
    "plt.grid(True)\n",
    "plt.show()"
   ]
  },
  {
   "cell_type": "code",
   "execution_count": null,
   "metadata": {},
   "outputs": [],
   "source": []
  }
 ],
 "metadata": {
  "kernelspec": {
   "display_name": "Python 3.7.4 64-bit ('base': conda)",
   "language": "python",
   "name": "python37464bitbaseconda4f632054b04c4033ba3690453bd32f12"
  },
  "language_info": {
   "codemirror_mode": {
    "name": "ipython",
    "version": 3
   },
   "file_extension": ".py",
   "mimetype": "text/x-python",
   "name": "python",
   "nbconvert_exporter": "python",
   "pygments_lexer": "ipython3",
   "version": "3.7.4-final"
  }
 },
 "nbformat": 4,
 "nbformat_minor": 2
}