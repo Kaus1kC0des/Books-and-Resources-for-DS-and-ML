{
 "cells": [
  {
   "cell_type": "markdown",
   "metadata": {},
   "source": [
    "# Using Non-linear Transformations"
   ]
  },
  {
   "cell_type": "markdown",
   "metadata": {},
   "source": [
    "## Doing variable transformations"
   ]
  },
  {
   "cell_type": "code",
   "execution_count": 1,
   "metadata": {},
   "outputs": [
    {
     "name": "stdout",
     "output_type": "stream",
     "text": [
      "(506, 13) (506,) ['CRIM' 'ZN' 'INDUS' 'CHAS' 'NOX' 'RM' 'AGE' 'DIS' 'RAD' 'TAX' 'PTRATIO'\n",
      " 'B' 'LSTAT']\n"
     ]
    }
   ],
   "source": [
    "from sklearn.datasets import load_boston\n",
    "import random\n",
    "from random import shuffle\n",
    "\n",
    "boston = load_boston()\n",
    "random.seed(0) # Creates a replicable shuffling\n",
    "new_index = list(range(boston.data.shape[0]))\n",
    "shuffle(new_index) # shuffling the index\n",
    "X, y = boston.data[new_index], boston.target[new_index]\n",
    "print(X.shape, y.shape, boston.feature_names)"
   ]
  },
  {
   "cell_type": "code",
   "execution_count": 2,
   "metadata": {},
   "outputs": [
    {
     "name": "stdout",
     "output_type": "stream",
     "text": [
      "Boston House Prices dataset\n",
      "===========================\n",
      "\n",
      "Notes\n",
      "------\n",
      "Data Set Characteristics:  \n",
      "\n",
      "    :Number of Instances: 506 \n",
      "\n",
      "    :Number of Attributes: 13 numeric/categorical predictive\n",
      "    \n",
      "    :Median Value (attribute 14) is usually the target\n",
      "\n",
      "    :Attribute Information (in order):\n",
      "        - CRIM     per capita crime rate by town\n",
      "        - ZN       proportion of residential land zoned for lots over 25,000 sq.ft.\n",
      "        - INDUS    proportion of non-retail business acres per town\n",
      "        - CHAS     Charles River dummy variable (= 1 if tract bounds river; 0 otherwise)\n",
      "        - NOX      nitric oxides concentration (parts per 10 million)\n",
      "        - RM       average number of rooms per dwelling\n",
      "        - AGE      proportion of owner-occupied units built prior to 1940\n",
      "        - DIS      weighted distances to five Boston employment centres\n",
      "        - RAD      index of accessibility to radial highways\n",
      "        - TAX      full-value property-tax rate per $10,000\n",
      "        - PTRATIO  pupil-teacher ratio by town\n",
      "        - B        1000(Bk - 0.63)^2 where Bk is the proportion of blacks by town\n",
      "        - LSTAT    % lower status of the population\n",
      "        - MEDV     Median value of owner-occupied homes in $1000's\n",
      "\n",
      "    :Missing Attribute Values: None\n",
      "\n",
      "    :Creator: Harrison, D. and Rubinfeld, D.L.\n",
      "\n",
      "This is a copy of UCI ML housing dataset.\n",
      "http://archive.ics.uci.edu/ml/datasets/Housing\n",
      "\n",
      "\n",
      "This dataset was taken from the StatLib library which is maintained at Carnegie Mellon University.\n",
      "\n",
      "The Boston house-price data of Harrison, D. and Rubinfeld, D.L. 'Hedonic\n",
      "prices and the demand for clean air', J. Environ. Economics & Management,\n",
      "vol.5, 81-102, 1978.   Used in Belsley, Kuh & Welsch, 'Regression diagnostics\n",
      "...', Wiley, 1980.   N.B. Various transformations are used in the table on\n",
      "pages 244-261 of the latter.\n",
      "\n",
      "The Boston house-price data has been used in many machine learning papers that address regression\n",
      "problems.   \n",
      "     \n",
      "**References**\n",
      "\n",
      "   - Belsley, Kuh & Welsch, 'Regression diagnostics: Identifying Influential Data and Sources of Collinearity', Wiley, 1980. 244-261.\n",
      "   - Quinlan,R. (1993). Combining Instance-Based and Model-Based Learning. In Proceedings on the Tenth International Conference of Machine Learning, 236-243, University of Massachusetts, Amherst. Morgan Kaufmann.\n",
      "   - many more! (see http://archive.ics.uci.edu/ml/datasets/Housing)\n",
      "\n"
     ]
    }
   ],
   "source": [
    "print(boston.DESCR)"
   ]
  },
  {
   "cell_type": "code",
   "execution_count": 3,
   "metadata": {},
   "outputs": [],
   "source": [
    "import pandas as pd\n",
    "df = pd.DataFrame(X,columns=boston.feature_names)\n",
    "df['target'] = y"
   ]
  },
  {
   "cell_type": "code",
   "execution_count": 4,
   "metadata": {
    "scrolled": true
   },
   "outputs": [
    {
     "data": {
      "image/png": "[encoded data removed]",
      "text/plain": [
       "<Figure size 432x288 with 1 Axes>"
      ]
     },
     "metadata": {},
     "output_type": "display_data"
    }
   ],
   "source": [
    "%matplotlib inline\n",
    "ax = df.plot(kind='scatter', x='LSTAT', y='target', c='b')"
   ]
  },
  {
   "cell_type": "code",
   "execution_count": 5,
   "metadata": {},
   "outputs": [
    {
     "name": "stdout",
     "output_type": "stream",
     "text": [
      "F score for the original feature 601.6\n",
      "F score for the transformed feature 1000.2\n"
     ]
    }
   ],
   "source": [
    "import numpy as np\n",
    "from sklearn.feature_selection import f_regression\n",
    "single_variable = df['LSTAT'].values.reshape(-1, 1)\n",
    "F, pval = f_regression(single_variable, y)\n",
    "print('F score for the original feature %.1f' % F)\n",
    "F, pval = f_regression(np.log(single_variable),y)\n",
    "print('F score for the transformed feature %.1f' % F)"
   ]
  },
  {
   "cell_type": "markdown",
   "metadata": {},
   "source": [
    "## Creating interactions between variables"
   ]
  },
  {
   "cell_type": "code",
   "execution_count": 6,
   "metadata": {},
   "outputs": [],
   "source": [
    "from sklearn.linear_model import LinearRegression\n",
    "from sklearn.model_selection  import cross_val_score, KFold\n",
    "regression = LinearRegression(normalize=True)\n",
    "crossvalidation = KFold(n_splits=10, shuffle=True, random_state=1)"
   ]
  },
  {
   "cell_type": "code",
   "execution_count": 7,
   "metadata": {},
   "outputs": [
    {
     "name": "stdout",
     "output_type": "stream",
     "text": [
      "Baseline R2: 0.716\n",
      "Top 10 interactions: [('RM', 'LSTAT', 0.79), ('TAX', 'RM', 0.782), ('RM', 'RAD', 0.778), ('RM', 'PTRATIO', 0.766), ('RM', 'INDUS', 0.76), ('RM', 'NOX', 0.747), ('RM', 'AGE', 0.742), ('RM', 'B', 0.738), ('RM', 'DIS', 0.736), ('ZN', 'RM', 0.73)]\n"
     ]
    }
   ],
   "source": [
    "df = pd.DataFrame(X,columns=boston.feature_names)\n",
    "baseline = np.mean(cross_val_score(regression, df, y, \n",
    "                                   scoring='r2', \n",
    "                                   cv=crossvalidation))\n",
    "interactions = list()\n",
    "for var_A in boston.feature_names:\n",
    "    for var_B in boston.feature_names:\n",
    "        if var_A > var_B:\n",
    "            df['interaction'] = df[var_A] * df[var_B]\n",
    "            cv = cross_val_score(regression, df, y, \n",
    "                                 scoring='r2', \n",
    "                                 cv=crossvalidation)\n",
    "            score = round(np.mean(cv), 3)\n",
    "            if score > baseline:\n",
    "                interactions.append((var_A, var_B, score))\n",
    "print('Baseline R2: %.3f' % baseline)\n",
    "print('Top 10 interactions: %s' % sorted(interactions, \n",
    "                                    key=lambda x :x[2], \n",
    "                                    reverse=True)[:10])"
   ]
  },
  {
   "cell_type": "code",
   "execution_count": 8,
   "metadata": {},
   "outputs": [
    {
     "data": {
      "image/png": "[encoded data removed]",
      "text/plain": [
       "<Figure size 432x288 with 1 Axes>"
      ]
     },
     "metadata": {},
     "output_type": "display_data"
    }
   ],
   "source": [
    "colors = ['b' if v > np.mean(y) else 'r' for v in y]\n",
    "scatter = df.plot(kind='scatter', x='RM', y='LSTAT', \n",
    "                  c=colors)"
   ]
  },
  {
   "cell_type": "code",
   "execution_count": 9,
   "metadata": {},
   "outputs": [],
   "source": [
    "# Adding polynomial features (x**2,y**2,xy)\n",
    "polyX = pd.DataFrame(X,columns=boston.feature_names)\n",
    "cv = cross_val_score(regression, polyX, y, \n",
    "                     scoring='neg_mean_squared_error', \n",
    "                     cv=crossvalidation)\n",
    "baseline = np.mean(cv)\n",
    "improvements = [baseline]\n",
    "for var_A in boston.feature_names: \n",
    "    polyX[var_A+'^2'] = polyX[var_A]**2\n",
    "    cv = cross_val_score(regression, polyX, y, \n",
    "                         scoring='neg_mean_squared_error', \n",
    "                         cv=crossvalidation)\n",
    "    improvements.append(np.mean(cv))\n",
    "    for var_B in boston.feature_names:\n",
    "        if var_A > var_B:\n",
    "            poly_var = var_A + '*' + var_B\n",
    "            polyX[poly_var] = polyX[var_A] * polyX[var_B]\n",
    "            cv = cross_val_score(regression, polyX, y, \n",
    "                         scoring='neg_mean_squared_error', \n",
    "                         cv=crossvalidation)\n",
    "            improvements.append(np.mean(cv))"
   ]
  },
  {
   "cell_type": "code",
   "execution_count": 10,
   "metadata": {},
   "outputs": [
    {
     "data": {
      "image/png": "[encoded data removed]",
      "text/plain": [
       "<Figure size 432x288 with 1 Axes>"
      ]
     },
     "metadata": {},
     "output_type": "display_data"
    }
   ],
   "source": [
    "import matplotlib.pyplot as plt\n",
    "plt.figure() \n",
    "plt.plot(range(0,92),np.abs(improvements),'-')\n",
    "plt.xlabel('Added polynomial features')\n",
    "plt.ylabel('Mean squared error')\n",
    "plt.show()"
   ]
  },
  {
   "cell_type": "code",
   "execution_count": 11,
   "metadata": {},
   "outputs": [
    {
     "name": "stdout",
     "output_type": "stream",
     "text": [
      "New shape of X: (506, 104)\n",
      "Mean squared error: 12.514\n"
     ]
    }
   ],
   "source": [
    "print('New shape of X:', np.shape(polyX))\n",
    "crossvalidation = KFold(n_splits=10, shuffle=True, \n",
    "                        random_state=1)\n",
    "cv = cross_val_score(regression, polyX, y, \n",
    "                     scoring='neg_mean_squared_error', \n",
    "                     cv=crossvalidation)\n",
    "print('Mean squared error: %.3f' % abs(np.mean(cv)))"
   ]
  },
  {
   "cell_type": "markdown",
   "metadata": {},
   "source": [
    "# Regularizing linear models"
   ]
  },
  {
   "cell_type": "markdown",
   "metadata": {},
   "source": [
    "## Relying on ridge regression"
   ]
  },
  {
   "cell_type": "code",
   "execution_count": 12,
   "metadata": {},
   "outputs": [
    {
     "name": "stdout",
     "output_type": "stream",
     "text": [
      "Best parameters: {'alpha': 0.001}\n",
      "CV MSE of best parameters: 11.630\n"
     ]
    }
   ],
   "source": [
    "from sklearn.model_selection import GridSearchCV\n",
    "from sklearn.linear_model import Ridge\n",
    "ridge = Ridge(normalize=True)\n",
    "search_grid = {'alpha':np.logspace(-5,2,8)}\n",
    "search = GridSearchCV(estimator=ridge, \n",
    "                      param_grid=search_grid, \n",
    "                      scoring='neg_mean_squared_error', \n",
    "                      refit=True, cv=10)\n",
    "search.fit(polyX,y)\n",
    "print('Best parameters: %s' % search.best_params_)\n",
    "score = abs(search.best_score_)\n",
    "print('CV MSE of best parameters: %.3f' % score)"
   ]
  },
  {
   "cell_type": "markdown",
   "metadata": {},
   "source": [
    "## Using the Lasso"
   ]
  },
  {
   "cell_type": "code",
   "execution_count": 13,
   "metadata": {},
   "outputs": [
    {
     "name": "stdout",
     "output_type": "stream",
     "text": [
      "Best parameters: {'alpha': 1e-05}\n",
      "CV MSE of best parameters: 12.472\n"
     ]
    }
   ],
   "source": [
    "from sklearn.linear_model import Lasso\n",
    "lasso = Lasso(normalize=True,tol=0.05, selection='random')\n",
    "search_grid = {'alpha':np.logspace(-5,3,8)}\n",
    "search = GridSearchCV(estimator=lasso, \n",
    "                      param_grid=search_grid, \n",
    "                      scoring='neg_mean_squared_error', \n",
    "                      refit=True, cv=10)\n",
    "search.fit(polyX,y)\n",
    "print('Best parameters: %s' % search.best_params_)\n",
    "score = abs(search.best_score_)\n",
    "print('CV MSE of best parameters: %.3f' % score)"
   ]
  },
  {
   "cell_type": "markdown",
   "metadata": {},
   "source": [
    "## Leveraging regularization for feature selection"
   ]
  },
  {
   "cell_type": "code",
   "execution_count": 14,
   "metadata": {},
   "outputs": [
    {
     "name": "stdout",
     "output_type": "stream",
     "text": [
      "['CRIM*CHAS' 'ZN*CRIM' 'ZN*CHAS' 'INDUS*DIS' 'CHAS*B' 'NOX^2' 'NOX*DIS'\n",
      " 'RM^2' 'RM*CRIM' 'RM*NOX' 'RM*PTRATIO' 'RM*B' 'RM*LSTAT' 'RAD*B'\n",
      " 'TAX*DIS' 'PTRATIO*NOX' 'LSTAT^2']\n"
     ]
    }
   ],
   "source": [
    "lasso = Lasso(normalize=True, alpha=0.01)\n",
    "lasso.fit(polyX,y)\n",
    "print(polyX.columns[np.abs(lasso.coef_)>0.0001].values)"
   ]
  },
  {
   "cell_type": "markdown",
   "metadata": {},
   "source": [
    "## Combining L1 & L2: Elasticnet"
   ]
  },
  {
   "cell_type": "code",
   "execution_count": 15,
   "metadata": {},
   "outputs": [
    {
     "name": "stdout",
     "output_type": "stream",
     "text": [
      "Best parameters: {'alpha': 0.0001, 'l1_ratio': 0.75}\n",
      "CV MSE of best parameters: 12.581\n"
     ]
    }
   ],
   "source": [
    "from sklearn.linear_model import ElasticNet\n",
    "elastic = ElasticNet(normalize=True, selection='random')\n",
    "search_grid = {'alpha':np.logspace(-4,3,8), \n",
    "               'l1_ratio': [0.10 ,0.25, 0.5, 0.75]}\n",
    "search = GridSearchCV(estimator=elastic, \n",
    "                      param_grid=search_grid, \n",
    "                      scoring='neg_mean_squared_error', \n",
    "                      refit=True, cv=10)\n",
    "search.fit(polyX,y)\n",
    "print('Best parameters: %s' % search.best_params_)\n",
    "score = abs(search.best_score_)\n",
    "print('CV MSE of best parameters: %.3f' % score)"
   ]
  },
  {
   "cell_type": "markdown",
   "metadata": {},
   "source": [
    "# Fighting with Big Data Chunk by Chunk"
   ]
  },
  {
   "cell_type": "markdown",
   "metadata": {},
   "source": [
    "## Implementing Stochastic Gradient Descent"
   ]
  },
  {
   "cell_type": "code",
   "execution_count": 16,
   "metadata": {},
   "outputs": [
    {
     "name": "stdout",
     "output_type": "stream",
     "text": [
      "CV MSE: 12.179\n"
     ]
    }
   ],
   "source": [
    "from sklearn.linear_model import SGDRegressor\n",
    "from sklearn.preprocessing import StandardScaler\n",
    "\n",
    "SGD = SGDRegressor(loss='squared_loss', \n",
    "                   penalty='l2', \n",
    "                   alpha=0.0001, \n",
    "                   l1_ratio=0.15, \n",
    "                   max_iter=2000,\n",
    "                   random_state=1)\n",
    "scaling = StandardScaler()\n",
    "scaling.fit(polyX)\n",
    "scaled_X = scaling.transform(polyX)\n",
    "cv = cross_val_score(SGD, scaled_X, y, \n",
    "         scoring='neg_mean_squared_error', \n",
    "         cv=crossvalidation)\n",
    "score = abs(np.mean(cv))\n",
    "print('CV MSE: %.3f' % score)"
   ]
  },
  {
   "cell_type": "code",
   "execution_count": 17,
   "metadata": {},
   "outputs": [],
   "source": [
    "from sklearn.metrics import mean_squared_error\n",
    "from sklearn.model_selection import train_test_split\n",
    "\n",
    "X_tr, X_t, y_tr, y_t = train_test_split(scaled_X, y, \n",
    "                                        test_size=0.20, \n",
    "                                        random_state=2)\n",
    "SGD = SGDRegressor(loss='squared_loss', \n",
    "                   penalty='l2', \n",
    "                   alpha=0.0001, \n",
    "                   l1_ratio=0.15, \n",
    "                   max_iter=2000,\n",
    "                   random_state=1)\n",
    "improvements = list()\n",
    "for z in range(10000):\n",
    "    SGD.partial_fit(X_tr, y_tr)\n",
    "    score = mean_squared_error(y_t, SGD.predict(X_t))\n",
    "    improvements.append(score)"
   ]
  },
  {
   "cell_type": "code",
   "execution_count": 18,
   "metadata": {
    "scrolled": true
   },
   "outputs": [
    {
     "data": {
      "image/png": "[encoded data removed]",
      "text/plain": [
       "<Figure size 576x288 with 2 Axes>"
      ]
     },
     "metadata": {},
     "output_type": "display_data"
    }
   ],
   "source": [
    "import matplotlib.pyplot as plt\n",
    "plt.figure(figsize=(8, 4))\n",
    "plt.subplot(1,2,1)\n",
    "range_1 = range(1,101,10)\n",
    "score_1 = np.abs(improvements[:100:10])\n",
    "plt.plot(range_1, score_1,'o--')\n",
    "plt.xlabel('Iterations up to 100')\n",
    "plt.ylabel('Test mean squared error')\n",
    "plt.subplot(1,2,2)\n",
    "range_2 = range(100,10000,500)\n",
    "score_2 = np.abs(improvements[100:10000:500])\n",
    "plt.plot(range_2, score_2,'o--')\n",
    "plt.xlabel('Iterations from 101 to 5000')\n",
    "plt.show()"
   ]
  },
  {
   "cell_type": "markdown",
   "metadata": {},
   "source": [
    "# Understanding Support Vector Machines"
   ]
  },
  {
   "cell_type": "markdown",
   "metadata": {},
   "source": [
    "## Classifying with SVC"
   ]
  },
  {
   "cell_type": "code",
   "execution_count": 19,
   "metadata": {},
   "outputs": [],
   "source": [
    "from sklearn import datasets\n",
    "digits = datasets.load_digits()\n",
    "X, y = digits.data, digits.target"
   ]
  },
  {
   "cell_type": "code",
   "execution_count": 20,
   "metadata": {},
   "outputs": [
    {
     "data": {
      "image/png": "[encoded data removed]",
      "text/plain": [
       "<Figure size 432x288 with 10 Axes>"
      ]
     },
     "metadata": {},
     "output_type": "display_data"
    }
   ],
   "source": [
    "import matplotlib.pyplot as plt\n",
    "%matplotlib inline\n",
    "\n",
    "for k,img in enumerate(range(10)):\n",
    "    plt.subplot(2, 5, k+1)\n",
    "    plt.imshow(digits.images[img], \n",
    "               cmap='binary', \n",
    "               interpolation='none')\n",
    "plt.show()"
   ]
  },
  {
   "cell_type": "code",
   "execution_count": 21,
   "metadata": {},
   "outputs": [
    {
     "name": "stdout",
     "output_type": "stream",
     "text": [
      "[ 0.  0.  5. 13.  9.  1.  0.  0.  0.  0. 13. 15. 10. 15.  5.  0.  0.  3.\n",
      " 15.  2.  0. 11.  8.  0.  0.  4. 12.  0.  0.  8.  8.  0.  0.  5.  8.  0.\n",
      "  0.  9.  8.  0.  0.  4. 11.  0.  1. 12.  7.  0.  0.  2. 14.  5. 10. 12.\n",
      "  0.  0.  0.  0.  6. 13. 10.  0.  0.  0.]\n"
     ]
    }
   ],
   "source": [
    "print(X[0])"
   ]
  },
  {
   "cell_type": "code",
   "execution_count": 22,
   "metadata": {},
   "outputs": [
    {
     "name": "stdout",
     "output_type": "stream",
     "text": [
      "[[ 0.  0.  5. 13.  9.  1.  0.  0.]\n",
      " [ 0.  0. 13. 15. 10. 15.  5.  0.]\n",
      " [ 0.  3. 15.  2.  0. 11.  8.  0.]\n",
      " [ 0.  4. 12.  0.  0.  8.  8.  0.]\n",
      " [ 0.  5.  8.  0.  0.  9.  8.  0.]\n",
      " [ 0.  4. 11.  0.  1. 12.  7.  0.]\n",
      " [ 0.  2. 14.  5. 10. 12.  0.  0.]\n",
      " [ 0.  0.  6. 13. 10.  0.  0.  0.]]\n"
     ]
    }
   ],
   "source": [
    "print(X[0].reshape(8,8))"
   ]
  },
  {
   "cell_type": "code",
   "execution_count": 23,
   "metadata": {},
   "outputs": [
    {
     "data": {
      "text/plain": [
       "(array([0, 1, 2, 3, 4, 5, 6, 7, 8, 9]),\n",
       " array([178, 182, 177, 183, 181, 182, 181, 179, 174, 180], dtype=int64))"
      ]
     },
     "execution_count": 23,
     "metadata": {},
     "output_type": "execute_result"
    }
   ],
   "source": [
    "np.unique(y, return_counts=True)"
   ]
  },
  {
   "cell_type": "code",
   "execution_count": 24,
   "metadata": {},
   "outputs": [],
   "source": [
    "from sklearn.model_selection import train_test_split \n",
    "from sklearn.model_selection import cross_val_score\n",
    "from sklearn.preprocessing import MinMaxScaler\n",
    "X_tr, X_t, y_tr, y_t = train_test_split(X, y, \n",
    "                                        test_size=0.3, \n",
    "                                        random_state=0)"
   ]
  },
  {
   "cell_type": "code",
   "execution_count": 25,
   "metadata": {},
   "outputs": [],
   "source": [
    "scaling = MinMaxScaler(feature_range=(-1, 1)).fit(X_tr)\n",
    "X_tr = scaling.transform(X_tr)\n",
    "X_t = scaling.transform(X_t)"
   ]
  },
  {
   "cell_type": "code",
   "execution_count": 26,
   "metadata": {},
   "outputs": [],
   "source": [
    "from sklearn.svm import SVC\n",
    "svc = SVC(kernel='linear', \n",
    "          class_weight='balanced')"
   ]
  },
  {
   "cell_type": "code",
   "execution_count": 27,
   "metadata": {},
   "outputs": [],
   "source": [
    "cv = cross_val_score(svc, X_tr, y_tr, cv=10)\n",
    "test_score = svc.fit(X_tr, y_tr).score(X_t, y_t)"
   ]
  },
  {
   "cell_type": "code",
   "execution_count": 28,
   "metadata": {},
   "outputs": [
    {
     "name": "stdout",
     "output_type": "stream",
     "text": [
      "CV accuracy score: 0.983\n",
      "Test accuracy score: 0.976\n"
     ]
    }
   ],
   "source": [
    "print('CV accuracy score: %0.3f' % np.mean(cv))\n",
    "print('Test accuracy score: %0.3f' % (test_score))"
   ]
  },
  {
   "cell_type": "code",
   "execution_count": 29,
   "metadata": {},
   "outputs": [
    {
     "data": {
      "text/plain": [
       "GridSearchCV(cv=10, error_score='raise',\n",
       "       estimator=SVC(C=1.0, cache_size=200, class_weight='balanced', coef0=0.0,\n",
       "  decision_function_shape='ovr', degree=3, gamma='auto', kernel='rbf',\n",
       "  max_iter=-1, probability=False, random_state=1, shrinking=True,\n",
       "  tol=0.001, verbose=False),\n",
       "       fit_params=None, iid=True, n_jobs=1,\n",
       "       param_grid={'C': array([1.e-03, 1.e-02, 1.e-01, 1.e+00, 1.e+01, 1.e+02, 1.e+03])},\n",
       "       pre_dispatch='2*n_jobs', refit=True, return_train_score='warn',\n",
       "       scoring='accuracy', verbose=0)"
      ]
     },
     "execution_count": 29,
     "metadata": {},
     "output_type": "execute_result"
    }
   ],
   "source": [
    "from sklearn.model_selection  import GridSearchCV\n",
    "svc = SVC(class_weight='balanced', random_state=1)\n",
    "search_space = {'C': np.logspace(-3, 3, 7)}\n",
    "gridsearch = GridSearchCV(svc, \n",
    "                          param_grid=search_space, \n",
    "                          scoring='accuracy', \n",
    "                          refit=True, cv=10)\n",
    "gridsearch.fit(X_tr,y_tr)"
   ]
  },
  {
   "cell_type": "code",
   "execution_count": 30,
   "metadata": {},
   "outputs": [],
   "source": [
    "cv = gridsearch.best_score_\n",
    "test_score = gridsearch.score(X_t, y_t)\n",
    "best_c =  gridsearch.best_params_['C']"
   ]
  },
  {
   "cell_type": "code",
   "execution_count": 31,
   "metadata": {},
   "outputs": [
    {
     "name": "stdout",
     "output_type": "stream",
     "text": [
      "CV accuracy score: 0.989\n",
      "Test accuracy score: 0.987\n",
      "Best C parameter: 10.0\n"
     ]
    }
   ],
   "source": [
    "print('CV accuracy score: %0.3f' % cv)\n",
    "print('Test accuracy score: %0.3f' % test_score)\n",
    "print('Best C parameter: %0.1f' % best_c)"
   ]
  },
  {
   "cell_type": "markdown",
   "metadata": {},
   "source": [
    "## Going nonlinear is easy"
   ]
  },
  {
   "cell_type": "code",
   "execution_count": 32,
   "metadata": {},
   "outputs": [
    {
     "name": "stdout",
     "output_type": "stream",
     "text": [
      "CV accuracy score: 0.990\n",
      "Test accuracy score: 0.993\n",
      "Best parameters: {'C': 1.0, 'degree': 2, 'gamma': 0.1, 'kernel': 'rbf'}\n"
     ]
    }
   ],
   "source": [
    "from sklearn.model_selection import GridSearchCV\n",
    "svc = SVC(class_weight='balanced', random_state=1)\n",
    "search_space = [{'kernel': ['linear'], \n",
    "                 'C': np.logspace(-3, 3, 7)},\n",
    "                {'kernel': ['rbf'], \n",
    "                 'degree':[2, 3, 4], \n",
    "                 'C':np.logspace(-3, 3, 7), \n",
    "                 'gamma': np.logspace(-3, 2, 6)}]\n",
    "gridsearch = GridSearchCV(svc, \n",
    "                          param_grid=search_space, \n",
    "                          scoring='accuracy', \n",
    "                          refit=True, cv=10,\n",
    "                          n_jobs=-1)\n",
    "gridsearch.fit(X_tr, y_tr)\n",
    "cv = gridsearch.best_score_\n",
    "test_score = gridsearch.score(X_t, y_t)\n",
    "print('CV accuracy score: %0.3f' % cv)\n",
    "print('Test accuracy score: %0.3f' % test_score)\n",
    "print('Best parameters: %s' % gridsearch.best_params_)"
   ]
  },
  {
   "cell_type": "markdown",
   "metadata": {},
   "source": [
    "## Performing regression with SVR"
   ]
  },
  {
   "cell_type": "code",
   "execution_count": 33,
   "metadata": {},
   "outputs": [],
   "source": [
    "from sklearn.model_selection import train_test_split\n",
    "from sklearn.model_selection import cross_val_score\n",
    "from sklearn.model_selection import GridSearchCV\n",
    "from sklearn.preprocessing import MinMaxScaler\n",
    "from sklearn.svm import SVR\n",
    "from sklearn import datasets\n",
    "\n",
    "boston = datasets.load_boston()\n",
    "X,y = boston.data, boston.target\n",
    "X_tr, X_t, y_tr, y_t = train_test_split(X, y, \n",
    "                                        test_size=0.3, \n",
    "                                        random_state=0)\n",
    "scaling = MinMaxScaler(feature_range=(-1, 1)).fit(X_tr)\n",
    "X_tr = scaling.transform(X_tr)\n",
    "X_t  = scaling.transform(X_t)"
   ]
  },
  {
   "cell_type": "code",
   "execution_count": 34,
   "metadata": {},
   "outputs": [
    {
     "name": "stdout",
     "output_type": "stream",
     "text": [
      "CV R2 score: 0.868\n",
      "Test R2 score: 0.834\n",
      "Best parameters: {'C': 1000.0, 'degree': 2, 'epsilon': 2, 'gamma': 0.1, 'kernel': 'rbf'}\n"
     ]
    }
   ],
   "source": [
    "svr = SVR()\n",
    "search_space = [{'kernel': ['linear'], \n",
    "                 'C': np.logspace(-3, 2, 6), \n",
    "                 'epsilon': [0, 0.01, 0.1, 0.5, 1, 2, 4]},\n",
    "                {'kernel': ['rbf'], \n",
    "                 'degree':[2,3], \n",
    "                 'C':np.logspace(-3, 3, 7), \n",
    "                 'gamma': np.logspace(-3, 2, 6), \n",
    "                 'epsilon': [0, 0.01, 0.1, 0.5, 1, 2, 4]}]\n",
    "gridsearch = GridSearchCV(svr, \n",
    "                          param_grid=search_space, \n",
    "                          refit=True, \n",
    "                          scoring= 'r2',\n",
    "                          cv=10, n_jobs=-1)\n",
    "gridsearch.fit(X_tr, y_tr)\n",
    "cv = gridsearch.best_score_\n",
    "test_score = gridsearch.score(X_t, y_t)\n",
    "print('CV R2 score: %0.3f' % cv)\n",
    "print('Test R2 score: %0.3f' % test_score)\n",
    "print('Best parameters: %s' % gridsearch.best_params_)"
   ]
  },
  {
   "cell_type": "markdown",
   "metadata": {},
   "source": [
    "## Creating a stochastic solution with SVM"
   ]
  },
  {
   "cell_type": "code",
   "execution_count": 35,
   "metadata": {},
   "outputs": [
    {
     "name": "stdout",
     "output_type": "stream",
     "text": [
      "SVC test accuracy: 0.803\n",
      "LinearSVC test accuracy: 0.804\n"
     ]
    }
   ],
   "source": [
    "from sklearn.datasets import make_classification\n",
    "from sklearn.model_selection import train_test_split\n",
    "import numpy as np\n",
    "X,y = make_classification(n_samples=10**4, \n",
    "                          n_features=15, \n",
    "                          n_informative=10, \n",
    "                          random_state=101)\n",
    "X_tr, X_t, y_tr, y_t = train_test_split(X, y, \n",
    "                                        test_size=0.3, \n",
    "                                        random_state=1)\n",
    "\n",
    "from sklearn.svm import SVC, LinearSVC\n",
    "svc = SVC(kernel='linear', random_state=1)\n",
    "linear = LinearSVC(loss='hinge', random_state=1)\n",
    "\n",
    "svc.fit(X_tr, y_tr)\n",
    "linear.fit(X_tr, y_tr)\n",
    "svc_score = svc.score(X_t, y_t)\n",
    "libsvc_score = linear.score(X_t, y_t)\n",
    "print('SVC test accuracy: %0.3f' % svc_score)\n",
    "print('LinearSVC test accuracy: %0.3f' % libsvc_score)"
   ]
  },
  {
   "cell_type": "code",
   "execution_count": 36,
   "metadata": {},
   "outputs": [
    {
     "name": "stdout",
     "output_type": "stream",
     "text": [
      "best avg secs for SVC: 21.7\n",
      "best avg secs for LinearSVC: 0.6\n"
     ]
    }
   ],
   "source": [
    "import timeit\n",
    "X,y = make_classification(n_samples=10**4, \n",
    "                          n_features=15, \n",
    "                          n_informative=10, \n",
    "                          random_state=101)\n",
    "t_svc = timeit.timeit('svc.fit(X, y)',\n",
    "                      'from __main__ import svc, X, y', \n",
    "                      number=1)\n",
    "t_libsvc = timeit.timeit('linear.fit(X, y)',\n",
    "                         'from __main__ import linear, X, y', \n",
    "                         number=1)\n",
    "print('best avg secs for SVC: %0.1f' % np.mean(t_svc))\n",
    "print('best avg secs for LinearSVC: %0.1f' % np.mean(t_libsvc))"
   ]
  },
  {
   "cell_type": "code",
   "execution_count": 37,
   "metadata": {},
   "outputs": [
    {
     "name": "stdout",
     "output_type": "stream",
     "text": [
      "Avg time for SVC: 211.9 secs\n",
      "Avg time for LinearSVC: 3.1 secs\n"
     ]
    }
   ],
   "source": [
    "import timeit\n",
    "X,y = make_classification(n_samples=3*10**4, \n",
    "                          n_features=15, \n",
    "                          n_informative=10, \n",
    "                          random_state=101)\n",
    "t_svc = timeit.timeit('svc.fit(X, y)',\n",
    "                      'from __main__ import svc, X, y', \n",
    "                      number=1)\n",
    "t_linear = timeit.timeit('linear.fit(X, y)',\n",
    "                         'from __main__ import linear, X, y', \n",
    "                         number=1)\n",
    "print('Avg time for SVC: %0.1f secs' % np.mean(t_svc))\n",
    "print('Avg time for LinearSVC: %0.1f secs' % np.mean(t_linear))"
   ]
  },
  {
   "cell_type": "code",
   "execution_count": 38,
   "metadata": {},
   "outputs": [
    {
     "name": "stdout",
     "output_type": "stream",
     "text": [
      "Avg time for SVC: 640.0 secs\n",
      "Avg time for LinearSVC: 4.9 secs\n"
     ]
    }
   ],
   "source": [
    "import timeit\n",
    "X,y = make_classification(n_samples=5*10**4, \n",
    "                          n_features=15, \n",
    "                          n_informative=10, \n",
    "                          random_state=101)\n",
    "t_svc = timeit.timeit('svc.fit(X, y)',\n",
    "                      'from __main__ import svc, X, y', \n",
    "                      number=1)\n",
    "t_linear = timeit.timeit('linear.fit(X, y)',\n",
    "                         'from __main__ import linear, X, y', \n",
    "                         number=1)\n",
    "print('Avg time for SVC: %0.1f secs' % np.mean(t_svc))\n",
    "print('Avg time for LinearSVC: %0.1f secs' % np.mean(t_linear))"
   ]
  },
  {
   "cell_type": "code",
   "execution_count": 39,
   "metadata": {},
   "outputs": [],
   "source": [
    "from sklearn.datasets import make_classification\n",
    "from sklearn.model_selection import train_test_split\n",
    "from sklearn.model_selection import cross_val_score\n",
    "from sklearn.svm import LinearSVC\n",
    "import timeit\n",
    "\n",
    "from sklearn.linear_model import SGDClassifier\n",
    "X, y = make_classification(n_samples=10**5, \n",
    "                           n_features=15, \n",
    "                           n_informative=10, \n",
    "                           random_state=101)\n",
    "X_tr, X_t, y_tr, y_t = train_test_split(X, y,\n",
    "                                        test_size=0.3, \n",
    "                                        random_state=1)"
   ]
  },
  {
   "cell_type": "code",
   "execution_count": 40,
   "metadata": {},
   "outputs": [
    {
     "name": "stdout",
     "output_type": "stream",
     "text": [
      "LinearSVC test accuracy: 0.796\n",
      "Avg time for LinearSVC: 8.8 secs\n"
     ]
    }
   ],
   "source": [
    "linear = LinearSVC(penalty='l2', \n",
    "                   loss='hinge', \n",
    "                   dual=True,\n",
    "                   random_state=1)\n",
    "linear.fit(X_tr, y_tr)\n",
    "score = linear.score(X_t, y_t)\n",
    "t = timeit.timeit(\"linear.fit(X_tr, y_tr)\", \n",
    "        \"from __main__ import linear, X_tr, y_tr\", \n",
    "        number=1)\n",
    "print('LinearSVC test accuracy: %0.3f' % score)\n",
    "print('Avg time for LinearSVC: %0.1f secs' % np.mean(t))"
   ]
  },
  {
   "cell_type": "code",
   "execution_count": 41,
   "metadata": {},
   "outputs": [
    {
     "name": "stdout",
     "output_type": "stream",
     "text": [
      "SGDClassifier test accuracy: 0.796\n",
      "Avg time for SGDClassifier: 1.7 secs\n"
     ]
    }
   ],
   "source": [
    "sgd = SGDClassifier(loss='hinge',\n",
    "                    max_iter=100, \n",
    "                    shuffle=True, \n",
    "                    random_state=101)\n",
    "sgd.fit(X_tr, y_tr)\n",
    "score = sgd.score(X_t, y_t)\n",
    "t = timeit.timeit(\"sgd.fit(X_tr, y_tr)\", \n",
    "                  \"from __main__ import sgd, X_tr, y_tr\", \n",
    "                  number=1)\n",
    "print('SGDClassifier test accuracy: %0.3f' % score)\n",
    "print('Avg time for SGDClassifier: %0.1f secs' % np.mean(t))"
   ]
  },
  {
   "cell_type": "markdown",
   "metadata": {},
   "source": [
    "# Playing with Neural Networks"
   ]
  },
  {
   "cell_type": "code",
   "execution_count": 42,
   "metadata": {},
   "outputs": [],
   "source": [
    "from sklearn.model_selection import train_test_split \n",
    "from sklearn.model_selection import cross_val_score\n",
    "from sklearn.preprocessing import MinMaxScaler\n",
    "from sklearn import datasets\n",
    "from sklearn.neural_network import MLPClassifier"
   ]
  },
  {
   "cell_type": "code",
   "execution_count": 43,
   "metadata": {},
   "outputs": [],
   "source": [
    "digits = datasets.load_digits()\n",
    "X, y = digits.data, digits.target\n",
    "X_tr, X_t, y_tr, y_t = train_test_split(X, y, \n",
    "                                        test_size=0.3, \n",
    "                                        random_state=0)\n",
    "scaling = MinMaxScaler(feature_range=(-1, 1)).fit(X_tr)\n",
    "X_tr = scaling.transform(X_tr)\n",
    "X_t = scaling.transform(X_t)"
   ]
  },
  {
   "cell_type": "code",
   "execution_count": 44,
   "metadata": {},
   "outputs": [],
   "source": [
    "nn = MLPClassifier(hidden_layer_sizes=(512, ), \n",
    "                   activation='relu', \n",
    "                   solver='adam',\n",
    "                   shuffle=True,\n",
    "                   tol=1e-4,\n",
    "                   random_state=1)"
   ]
  },
  {
   "cell_type": "code",
   "execution_count": 45,
   "metadata": {},
   "outputs": [
    {
     "name": "stdout",
     "output_type": "stream",
     "text": [
      "CV accuracy score: 0.978\n",
      "Test accuracy score: 0.981\n"
     ]
    }
   ],
   "source": [
    "cv = cross_val_score(nn, X_tr, y_tr, cv=10)\n",
    "test_score = nn.fit(X_tr, y_tr).score(X_t, y_t)\n",
    "print('CV accuracy score: %0.3f' % np.mean(cv))\n",
    "print('Test accuracy score: %0.3f' % (test_score))"
   ]
  }
 ],
 "metadata": {
  "kernelspec": {
   "display_name": "Python [conda env:pds4dummies2]",
   "language": "python",
   "name": "conda-env-pds4dummies2-py"
  },
  "language_info": {
   "codemirror_mode": {
    "name": "ipython",
    "version": 3
   },
   "file_extension": ".py",
   "mimetype": "text/x-python",
   "name": "python",
   "nbconvert_exporter": "python",
   "pygments_lexer": "ipython3",
   "version": "3.6.5"
  }
 },
 "nbformat": 4,
 "nbformat_minor": 1
}
