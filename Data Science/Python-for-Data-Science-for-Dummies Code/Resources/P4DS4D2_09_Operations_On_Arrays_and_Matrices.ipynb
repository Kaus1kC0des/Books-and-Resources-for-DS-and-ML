{
 "cells": [
  {
   "cell_type": "markdown",
   "metadata": {},
   "source": [
    "# Performing Operations on Arrays"
   ]
  },
  {
   "cell_type": "markdown",
   "metadata": {},
   "source": [
    "## Using vectorization"
   ]
  },
  {
   "cell_type": "code",
   "execution_count": 1,
   "metadata": {},
   "outputs": [
    {
     "name": "stdout",
     "output_type": "stream",
     "text": [
      "[6 8 8]\n"
     ]
    }
   ],
   "source": [
    "import numpy as np\n",
    "dataset = np.array([[2, 4, 6, 8, 3, 2, 5], \n",
    "                    [7, 5, 3, 1, 6, 8, 0], \n",
    "                    [1, 3, 2, 1, 0, 0, 8]])\n",
    "print(np.max(dataset, axis=1) - np.min(dataset, axis=1))"
   ]
  },
  {
   "cell_type": "markdown",
   "metadata": {},
   "source": [
    "## Performing simple arithmetic on vectors and matrices"
   ]
  },
  {
   "cell_type": "code",
   "execution_count": 2,
   "metadata": {},
   "outputs": [
    {
     "name": "stdout",
     "output_type": "stream",
     "text": [
      "[0.15 0.2  0.22 0.75 0.4  0.35]\n"
     ]
    }
   ],
   "source": [
    "import numpy as np\n",
    "a = np.array([15.0, 20.0, 22.0, 75.0, 40.0, 35.0])\n",
    "a = a*.01\n",
    "print(a)"
   ]
  },
  {
   "cell_type": "markdown",
   "metadata": {},
   "source": [
    "## Performing matrix vector multiplication"
   ]
  },
  {
   "cell_type": "code",
   "execution_count": 3,
   "metadata": {},
   "outputs": [
    {
     "name": "stdout",
     "output_type": "stream",
     "text": [
      "[ 60  80 100 120]\n"
     ]
    }
   ],
   "source": [
    "import numpy as np\n",
    "a = np.array([2, 4, 6, 8])\n",
    "b = np.array([[1, 2, 3, 4],\n",
    "              [2, 3, 4, 5],\n",
    "              [3, 4, 5, 6],\n",
    "              [4, 5, 6, 7]])\n",
    "c = np.dot(a, b)\n",
    "print(c)"
   ]
  },
  {
   "cell_type": "markdown",
   "metadata": {},
   "source": [
    "## Performing matrix multiplication"
   ]
  },
  {
   "cell_type": "code",
   "execution_count": 4,
   "metadata": {},
   "outputs": [
    {
     "name": "stdout",
     "output_type": "stream",
     "text": [
      "[[60 80]\n",
      " [50 66]]\n"
     ]
    }
   ],
   "source": [
    "import numpy as np\n",
    "\n",
    "a = np.array([[2, 4, 6, 8],\n",
    "              [1, 3, 5, 7]])\n",
    "b = np.array ([[1, 2],\n",
    "               [2, 3],\n",
    "               [3, 4],\n",
    "               [4, 5]])\n",
    "c = np.dot(a, b)\n",
    "print(c)"
   ]
  }
 ],
 "metadata": {
  "kernelspec": {
   "display_name": "Python [default]",
   "language": "python",
   "name": "python3"
  },
  "language_info": {
   "codemirror_mode": {
    "name": "ipython",
    "version": 3
   },
   "file_extension": ".py",
   "mimetype": "text/x-python",
   "name": "python",
   "nbconvert_exporter": "python",
   "pygments_lexer": "ipython3",
   "version": "3.6.6"
  }
 },
 "nbformat": 4,
 "nbformat_minor": 2
}
