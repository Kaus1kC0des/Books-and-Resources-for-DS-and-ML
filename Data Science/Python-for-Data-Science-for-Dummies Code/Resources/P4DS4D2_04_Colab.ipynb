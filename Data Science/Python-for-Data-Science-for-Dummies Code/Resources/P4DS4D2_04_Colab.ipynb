{
  "nbformat": 4,
  "nbformat_minor": 0,
  "metadata": {
    "colab": {
      "name": "P4DS4D2_04_Colab.ipynb",
      "version": "0.3.2",
      "provenance": []
    },
    "kernelspec": {
      "name": "python3",
      "display_name": "Python 3"
    }
  },
  "cells": [
    {
      "metadata": {
        "id": "7xG7Zkdk-tF_",
        "colab_type": "text"
      },
      "cell_type": "markdown",
      "source": [
        "# Performing Common Tasks"
      ]
    },
    {
      "metadata": {
        "id": "6yaQ57vmAsdC",
        "colab_type": "text"
      },
      "cell_type": "markdown",
      "source": [
        "## Creating code cells"
      ]
    },
    {
      "metadata": {
        "id": "PwvaI-nF1ZaM",
        "colab_type": "code",
        "colab": {
          "base_uri": "https://localhost:8080/",
          "height": 34
        },
        "outputId": "1055ca4a-913e-4f14-974a-7dbcb17b76e7"
      },
      "cell_type": "code",
      "source": [
        "print('Hello There!')"
      ],
      "execution_count": 1,
      "outputs": [
        {
          "output_type": "stream",
          "text": [
            "Hello There!\n"
          ],
          "name": "stdout"
        }
      ]
    },
    {
      "metadata": {
        "id": "26ktBf7OAk2z",
        "colab_type": "text"
      },
      "cell_type": "markdown",
      "source": [
        "## Creating text cells"
      ]
    },
    {
      "metadata": {
        "id": "fGf8EzC3BSNB",
        "colab_type": "text"
      },
      "cell_type": "markdown",
      "source": [
        "## Creating special cells"
      ]
    },
    {
      "metadata": {
        "id": "_ccCNVKnBWOB",
        "colab_type": "text"
      },
      "cell_type": "markdown",
      "source": [
        "### Working with headings"
      ]
    },
    {
      "metadata": {
        "id": "jdcRF2WiBciq",
        "colab_type": "text"
      },
      "cell_type": "markdown",
      "source": [
        "### Working with table of contents"
      ]
    },
    {
      "metadata": {
        "id": "2rdZ0d-NBgTK",
        "colab_type": "toc"
      },
      "cell_type": "markdown",
      "source": [
        ">[Performing Common Tasks](#scrollTo=7xG7Zkdk-tF_)\n",
        "\n",
        ">>[Creating code cells](#scrollTo=6yaQ57vmAsdC)\n",
        "\n",
        ">>[Creating text cells](#scrollTo=26ktBf7OAk2z)\n",
        "\n",
        ">>[Creating special cells](#scrollTo=fGf8EzC3BSNB)\n",
        "\n",
        ">>>[Working with headings](#scrollTo=_ccCNVKnBWOB)\n",
        "\n",
        ">>>[Working with table of contents](#scrollTo=jdcRF2WiBciq)\n",
        "\n"
      ]
    }
  ]
}