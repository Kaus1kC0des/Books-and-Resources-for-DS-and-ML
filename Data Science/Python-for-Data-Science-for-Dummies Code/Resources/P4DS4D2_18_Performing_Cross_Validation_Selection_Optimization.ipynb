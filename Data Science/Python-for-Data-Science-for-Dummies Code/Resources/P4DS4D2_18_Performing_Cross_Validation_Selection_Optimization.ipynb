{
 "cells": [
  {
   "cell_type": "markdown",
   "metadata": {},
   "source": [
    "# Pondering the Problem of Fitting a Model"
   ]
  },
  {
   "cell_type": "markdown",
   "metadata": {},
   "source": [
    "## Dividing between training, test and validation"
   ]
  },
  {
   "cell_type": "code",
   "execution_count": 1,
   "metadata": {},
   "outputs": [
    {
     "name": "stdout",
     "output_type": "stream",
     "text": [
      "(506, 13) (506,)\n"
     ]
    }
   ],
   "source": [
    "from sklearn.datasets import load_boston\n",
    "boston = load_boston()\n",
    "X, y = boston.data, boston.target\n",
    "print(X.shape, y.shape)"
   ]
  },
  {
   "cell_type": "code",
   "execution_count": 2,
   "metadata": {},
   "outputs": [
    {
     "name": "stdout",
     "output_type": "stream",
     "text": [
      "Mean squared error: 21.90\n"
     ]
    }
   ],
   "source": [
    "from sklearn.linear_model import LinearRegression\n",
    "from sklearn.metrics import mean_squared_error\n",
    "regression = LinearRegression()\n",
    "regression.fit(X,y)\n",
    "print('Mean squared error: %.2f' % mean_squared_error(\n",
    "    y_true=y, y_pred=regression.predict(X)))"
   ]
  },
  {
   "cell_type": "code",
   "execution_count": 3,
   "metadata": {},
   "outputs": [
    {
     "name": "stdout",
     "output_type": "stream",
     "text": [
      "(354, 13) (152, 13)\n"
     ]
    }
   ],
   "source": [
    "from sklearn.model_selection import train_test_split\n",
    "X_train, X_test, y_train, y_test = train_test_split(\n",
    "    X, y, test_size=0.30, random_state=5)\n",
    "print(X_train.shape, X_test.shape)"
   ]
  },
  {
   "cell_type": "code",
   "execution_count": 4,
   "metadata": {},
   "outputs": [
    {
     "name": "stdout",
     "output_type": "stream",
     "text": [
      "Train mean squared error: 19.07\n"
     ]
    }
   ],
   "source": [
    "regression.fit(X_train,y_train)\n",
    "print('Train mean squared error: %.2f' % mean_squared_error(\n",
    "    y_true=y_train, y_pred=regression.predict(X_train)))"
   ]
  },
  {
   "cell_type": "code",
   "execution_count": 5,
   "metadata": {},
   "outputs": [
    {
     "name": "stdout",
     "output_type": "stream",
     "text": [
      "Test mean squared error: 30.70\n"
     ]
    }
   ],
   "source": [
    "print('Test mean squared error: %.2f' % mean_squared_error(\n",
    "    y_true=y_test, y_pred=regression.predict(X_test)))"
   ]
  },
  {
   "cell_type": "code",
   "execution_count": 6,
   "metadata": {},
   "outputs": [
    {
     "name": "stdout",
     "output_type": "stream",
     "text": [
      "Train mean squared error: 19.48\n",
      "Test mean squared error: 28.33\n"
     ]
    }
   ],
   "source": [
    "from sklearn.model_selection import train_test_split\n",
    "X_train, X_test, y_train, y_test = train_test_split(\n",
    "    X, y, test_size=0.30, random_state=6)\n",
    "regression.fit(X_train,y_train)\n",
    "print('Train mean squared error: %.2f' % mean_squared_error(\n",
    "    y_true=y_train, y_pred=regression.predict(X_train)))\n",
    "print('Test mean squared error: %.2f' % mean_squared_error(\n",
    "    y_true=y_test, y_pred=regression.predict(X_test)))"
   ]
  },
  {
   "cell_type": "markdown",
   "metadata": {},
   "source": [
    "# Cross-validating"
   ]
  },
  {
   "cell_type": "markdown",
   "metadata": {},
   "source": [
    "## Using cross-validation on k folds"
   ]
  },
  {
   "cell_type": "code",
   "execution_count": 7,
   "metadata": {},
   "outputs": [
    {
     "name": "stdout",
     "output_type": "stream",
     "text": [
      "Folds: 10, mean squared error: 23.76 std: 12.13\n"
     ]
    }
   ],
   "source": [
    "from sklearn.model_selection import cross_val_score, KFold\n",
    "import numpy as np\n",
    "crossvalidation = KFold(n_splits=10, shuffle=True, random_state=1)\n",
    "scores = cross_val_score(regression, X, y, \n",
    "    scoring='neg_mean_squared_error', cv=crossvalidation, n_jobs=1)\n",
    "print('Folds: %i, mean squared error: %.2f std: %.2f' % \n",
    "      (len(scores),np.mean(np.abs(scores)),np.std(scores)))"
   ]
  },
  {
   "cell_type": "markdown",
   "metadata": {},
   "source": [
    "## Sampling stratifications for complex data"
   ]
  },
  {
   "cell_type": "code",
   "execution_count": 8,
   "metadata": {},
   "outputs": [
    {
     "data": {
      "image/png": "[encoded data removed]",
      "text/plain": [
       "<Figure size 432x288 with 1 Axes>"
      ]
     },
     "metadata": {},
     "output_type": "display_data"
    }
   ],
   "source": [
    "%matplotlib inline\n",
    "import pandas as pd\n",
    "df = pd.DataFrame(X, columns=boston.feature_names)\n",
    "df['target'] = y\n",
    "df.boxplot('target', by='CHAS', return_type='axes');"
   ]
  },
  {
   "cell_type": "code",
   "execution_count": 9,
   "metadata": {},
   "outputs": [
    {
     "name": "stdout",
     "output_type": "stream",
     "text": [
      "3 folds cv mean squared error: 24.30 std: 3.99\n"
     ]
    }
   ],
   "source": [
    "from sklearn.model_selection import StratifiedShuffleSplit\n",
    "from sklearn.metrics import mean_squared_error\n",
    "strata = StratifiedShuffleSplit(n_splits=3, \n",
    "                                test_size=0.35, \n",
    "                                random_state=0)\n",
    "scores = list()\n",
    "for train_index, test_index in strata.split(X, X[:,3]):\n",
    "    X_train, X_test = X[train_index], X[test_index]\n",
    "    y_train, y_test = y[train_index], y[test_index]\n",
    "    regression.fit(X_train, y_train)\n",
    "    scores.append(mean_squared_error(y_true=y_test, \n",
    "                       y_pred=regression.predict(X_test)))\n",
    "print('%i folds cv mean squared error: %.2f std: %.2f' % \n",
    "      (len(scores),np.mean(np.abs(scores)),np.std(scores)))"
   ]
  },
  {
   "cell_type": "markdown",
   "metadata": {},
   "source": [
    "# Selecting Variables Like a Pro"
   ]
  },
  {
   "cell_type": "markdown",
   "metadata": {},
   "source": [
    "## Selecting on univariate measures"
   ]
  },
  {
   "cell_type": "code",
   "execution_count": 10,
   "metadata": {},
   "outputs": [
    {
     "name": "stdout",
     "output_type": "stream",
     "text": [
      "F-score: 88.15\t for feature CRIM \n",
      "F-score: 75.26\t for feature ZN \n",
      "F-score: 153.95\t for feature INDUS \n",
      "F-score: 15.97\t for feature CHAS \n",
      "F-score: 112.59\t for feature NOX \n",
      "F-score: 471.85\t for feature RM \n",
      "F-score: 83.48\t for feature AGE \n",
      "F-score: 33.58\t for feature DIS \n",
      "F-score: 85.91\t for feature RAD \n",
      "F-score: 141.76\t for feature TAX \n",
      "F-score: 175.11\t for feature PTRATIO \n",
      "F-score: 63.05\t for feature B \n",
      "F-score: 601.62\t for feature LSTAT \n"
     ]
    }
   ],
   "source": [
    "from sklearn.feature_selection import SelectPercentile\n",
    "from sklearn.feature_selection import f_regression\n",
    "Selector_f = SelectPercentile(f_regression, percentile=25)\n",
    "Selector_f.fit(X, y)\n",
    "for n,s in zip(boston.feature_names,Selector_f.scores_):\n",
    "    print('F-score: %3.2f\\t for feature %s ' % (s,n))"
   ]
  },
  {
   "cell_type": "markdown",
   "metadata": {},
   "source": [
    "## Using a greedy search"
   ]
  },
  {
   "cell_type": "code",
   "execution_count": 11,
   "metadata": {},
   "outputs": [
    {
     "name": "stdout",
     "output_type": "stream",
     "text": [
      "Optimal number of features : 6\n"
     ]
    }
   ],
   "source": [
    "from sklearn.feature_selection import RFECV\n",
    "selector = RFECV(estimator=regression, \n",
    "                 cv=10, \n",
    "                 scoring='neg_mean_squared_error')\n",
    "selector.fit(X, y)\n",
    "print(\"Optimal number of features : %d\" \n",
    "      % selector.n_features_)"
   ]
  },
  {
   "cell_type": "code",
   "execution_count": 12,
   "metadata": {},
   "outputs": [
    {
     "name": "stdout",
     "output_type": "stream",
     "text": [
      "['CHAS' 'NOX' 'RM' 'DIS' 'PTRATIO' 'LSTAT']\n"
     ]
    }
   ],
   "source": [
    "print(boston.feature_names[selector.support_])"
   ]
  },
  {
   "cell_type": "markdown",
   "metadata": {},
   "source": [
    "# Pumping up your hyper-parameters"
   ]
  },
  {
   "cell_type": "code",
   "execution_count": 13,
   "metadata": {},
   "outputs": [],
   "source": [
    "import numpy as np\n",
    "from sklearn.datasets import load_iris\n",
    "iris = load_iris()\n",
    "X, y = iris.data, iris.target"
   ]
  },
  {
   "cell_type": "markdown",
   "metadata": {},
   "source": [
    "## Implementing a grid search"
   ]
  },
  {
   "cell_type": "code",
   "execution_count": 14,
   "metadata": {},
   "outputs": [],
   "source": [
    "from sklearn.neighbors import KNeighborsClassifier\n",
    "classifier = KNeighborsClassifier(n_neighbors=5, \n",
    "      weights='uniform', metric= 'minkowski', p=2)"
   ]
  },
  {
   "cell_type": "code",
   "execution_count": 15,
   "metadata": {},
   "outputs": [
    {
     "name": "stdout",
     "output_type": "stream",
     "text": [
      "Number of tested models: 40\n"
     ]
    }
   ],
   "source": [
    "grid = {'n_neighbors': range(1,11), \n",
    "        'weights': ['uniform', 'distance'], 'p': [1,2]}\n",
    "print ('Number of tested models: %i' \n",
    "       % np.prod([len(grid[element]) for element in grid]))\n",
    "score_metric = 'accuracy'"
   ]
  },
  {
   "cell_type": "code",
   "execution_count": 16,
   "metadata": {},
   "outputs": [
    {
     "name": "stdout",
     "output_type": "stream",
     "text": [
      "Baseline with default parameters: 0.967\n"
     ]
    }
   ],
   "source": [
    "from sklearn.model_selection import cross_val_score\n",
    "print('Baseline with default parameters: %.3f' \n",
    "      % np.mean(cross_val_score(classifier, X, y, \n",
    "                cv=10, scoring=score_metric, n_jobs=1)))"
   ]
  },
  {
   "cell_type": "code",
   "execution_count": 17,
   "metadata": {},
   "outputs": [
    {
     "data": {
      "text/plain": [
       "GridSearchCV(cv=10, error_score='raise',\n",
       "       estimator=KNeighborsClassifier(algorithm='auto', leaf_size=30, metric='minkowski',\n",
       "           metric_params=None, n_jobs=1, n_neighbors=5, p=2,\n",
       "           weights='uniform'),\n",
       "       fit_params=None, iid=True, n_jobs=1,\n",
       "       param_grid={'n_neighbors': range(1, 11), 'weights': ['uniform', 'distance'], 'p': [1, 2]},\n",
       "       pre_dispatch='2*n_jobs', refit=True, return_train_score=True,\n",
       "       scoring='accuracy', verbose=0)"
      ]
     },
     "execution_count": 17,
     "metadata": {},
     "output_type": "execute_result"
    }
   ],
   "source": [
    "from sklearn.model_selection import GridSearchCV\n",
    "search = GridSearchCV(estimator=classifier, \n",
    "                      param_grid=grid, \n",
    "                      scoring=score_metric, \n",
    "                      n_jobs=1, \n",
    "                      refit=True, \n",
    "                      return_train_score=True, \n",
    "                      cv=10)\n",
    "search.fit(X,y)"
   ]
  },
  {
   "cell_type": "code",
   "execution_count": 18,
   "metadata": {},
   "outputs": [
    {
     "name": "stdout",
     "output_type": "stream",
     "text": [
      "Best parameters: {'n_neighbors': 9, 'p': 1, 'weights': 'uniform'}\n",
      "CV Accuracy of best parameters: 0.973\n"
     ]
    }
   ],
   "source": [
    "print('Best parameters: %s' % search.best_params_)\n",
    "print('CV Accuracy of best parameters: %.3f' % \n",
    "      search.best_score_)"
   ]
  },
  {
   "cell_type": "code",
   "execution_count": 19,
   "metadata": {},
   "outputs": [
    {
     "name": "stdout",
     "output_type": "stream",
     "text": [
      "{'mean_fit_time': array([0.00050011, 0.00040007, 0.00030005, 0.00030007, 0.00040007,\n",
      "       0.00010002, 0.00040009, 0.        , 0.00040009, 0.00050011,\n",
      "       0.00020006, 0.00060015, 0.00030005, 0.0006001 , 0.00020003,\n",
      "       0.00090017, 0.00020003, 0.00010002, 0.        , 0.        ,\n",
      "       0.00010002, 0.00100021, 0.00040009, 0.00060012, 0.00040011,\n",
      "       0.00020003, 0.00010002, 0.00040009, 0.00050011, 0.00080016,\n",
      "       0.00030005, 0.00040009, 0.00010002, 0.00020003, 0.00060012,\n",
      "       0.00010002, 0.        , 0.00050008, 0.00040009, 0.00050008]), 'std_fit_time': array([5.00106816e-04, 4.89979242e-04, 4.58333612e-04, 4.58370036e-04,\n",
      "       4.89979242e-04, 3.00049782e-04, 4.90008446e-04, 0.00000000e+00,\n",
      "       4.90008446e-04, 5.00106816e-04, 4.00114063e-04, 4.90018183e-04,\n",
      "       4.58333612e-04, 4.89979242e-04, 4.00066376e-04, 3.00057738e-04,\n",
      "       4.00066376e-04, 3.00049782e-04, 0.00000000e+00, 0.00000000e+00,\n",
      "       3.00049782e-04, 9.53674316e-08, 4.90008446e-04, 4.89998714e-04,\n",
      "       4.90037660e-04, 4.00066376e-04, 3.00049782e-04, 4.90008446e-04,\n",
      "       5.00106816e-04, 4.00078303e-04, 4.58333612e-04, 4.90008446e-04,\n",
      "       3.00049782e-04, 4.00066376e-04, 4.89998714e-04, 3.00049782e-04,\n",
      "       0.00000000e+00, 5.00082970e-04, 4.90008446e-04, 5.00082970e-04]), 'mean_score_time': array([0.00020003, 0.00050011, 0.00060015, 0.00060012, 0.00040007,\n",
      "       0.00080016, 0.00050011, 0.00090017, 0.00030005, 0.00050011,\n",
      "       0.00060012, 0.00020003, 0.00050011, 0.00010002, 0.00060012,\n",
      "       0.        , 0.00050011, 0.00080016, 0.00070014, 0.00100019,\n",
      "       0.00050008, 0.        , 0.00060012, 0.00020003, 0.00030007,\n",
      "       0.00080018, 0.00100021, 0.00050011, 0.        , 0.00020006,\n",
      "       0.        , 0.00050008, 0.        , 0.00040009, 0.        ,\n",
      "       0.00070012, 0.00100021, 0.00060015, 0.00050011, 0.00040007]), 'std_score_time': array([4.00066376e-04, 5.00106816e-04, 4.90018183e-04, 4.89998714e-04,\n",
      "       4.89979242e-04, 4.00078303e-04, 5.00106816e-04, 3.00057738e-04,\n",
      "       4.58333612e-04, 5.00106816e-04, 4.89998714e-04, 4.00066376e-04,\n",
      "       5.00106816e-04, 3.00049782e-04, 4.89998714e-04, 0.00000000e+00,\n",
      "       5.00106816e-04, 4.00078303e-04, 4.58349226e-04, 7.15255737e-08,\n",
      "       5.00082970e-04, 0.00000000e+00, 4.89998714e-04, 4.00066376e-04,\n",
      "       4.58370036e-04, 4.00090228e-04, 9.53674316e-08, 5.00106816e-04,\n",
      "       0.00000000e+00, 4.00114063e-04, 0.00000000e+00, 5.00082970e-04,\n",
      "       0.00000000e+00, 4.90008446e-04, 0.00000000e+00, 4.58333612e-04,\n",
      "       9.53674316e-08, 4.90018183e-04, 5.00106816e-04, 4.89979242e-04]), 'param_n_neighbors': masked_array(data=[1, 1, 1, 1, 2, 2, 2, 2, 3, 3, 3, 3, 4, 4, 4, 4, 5, 5,\n",
      "                   5, 5, 6, 6, 6, 6, 7, 7, 7, 7, 8, 8, 8, 8, 9, 9, 9, 9,\n",
      "                   10, 10, 10, 10],\n",
      "             mask=[False, False, False, False, False, False, False, False,\n",
      "                   False, False, False, False, False, False, False, False,\n",
      "                   False, False, False, False, False, False, False, False,\n",
      "                   False, False, False, False, False, False, False, False,\n",
      "                   False, False, False, False, False, False, False, False],\n",
      "       fill_value='?',\n",
      "            dtype=object), 'param_p': masked_array(data=[1, 1, 2, 2, 1, 1, 2, 2, 1, 1, 2, 2, 1, 1, 2, 2, 1, 1,\n",
      "                   2, 2, 1, 1, 2, 2, 1, 1, 2, 2, 1, 1, 2, 2, 1, 1, 2, 2,\n",
      "                   1, 1, 2, 2],\n",
      "             mask=[False, False, False, False, False, False, False, False,\n",
      "                   False, False, False, False, False, False, False, False,\n",
      "                   False, False, False, False, False, False, False, False,\n",
      "                   False, False, False, False, False, False, False, False,\n",
      "                   False, False, False, False, False, False, False, False],\n",
      "       fill_value='?',\n",
      "            dtype=object), 'param_weights': masked_array(data=['uniform', 'distance', 'uniform', 'distance',\n",
      "                   'uniform', 'distance', 'uniform', 'distance',\n",
      "                   'uniform', 'distance', 'uniform', 'distance',\n",
      "                   'uniform', 'distance', 'uniform', 'distance',\n",
      "                   'uniform', 'distance', 'uniform', 'distance',\n",
      "                   'uniform', 'distance', 'uniform', 'distance',\n",
      "                   'uniform', 'distance', 'uniform', 'distance',\n",
      "                   'uniform', 'distance', 'uniform', 'distance',\n",
      "                   'uniform', 'distance', 'uniform', 'distance',\n",
      "                   'uniform', 'distance', 'uniform', 'distance'],\n",
      "             mask=[False, False, False, False, False, False, False, False,\n",
      "                   False, False, False, False, False, False, False, False,\n",
      "                   False, False, False, False, False, False, False, False,\n",
      "                   False, False, False, False, False, False, False, False,\n",
      "                   False, False, False, False, False, False, False, False],\n",
      "       fill_value='?',\n",
      "            dtype=object), 'params': [{'n_neighbors': 1, 'p': 1, 'weights': 'uniform'}, {'n_neighbors': 1, 'p': 1, 'weights': 'distance'}, {'n_neighbors': 1, 'p': 2, 'weights': 'uniform'}, {'n_neighbors': 1, 'p': 2, 'weights': 'distance'}, {'n_neighbors': 2, 'p': 1, 'weights': 'uniform'}, {'n_neighbors': 2, 'p': 1, 'weights': 'distance'}, {'n_neighbors': 2, 'p': 2, 'weights': 'uniform'}, {'n_neighbors': 2, 'p': 2, 'weights': 'distance'}, {'n_neighbors': 3, 'p': 1, 'weights': 'uniform'}, {'n_neighbors': 3, 'p': 1, 'weights': 'distance'}, {'n_neighbors': 3, 'p': 2, 'weights': 'uniform'}, {'n_neighbors': 3, 'p': 2, 'weights': 'distance'}, {'n_neighbors': 4, 'p': 1, 'weights': 'uniform'}, {'n_neighbors': 4, 'p': 1, 'weights': 'distance'}, {'n_neighbors': 4, 'p': 2, 'weights': 'uniform'}, {'n_neighbors': 4, 'p': 2, 'weights': 'distance'}, {'n_neighbors': 5, 'p': 1, 'weights': 'uniform'}, {'n_neighbors': 5, 'p': 1, 'weights': 'distance'}, {'n_neighbors': 5, 'p': 2, 'weights': 'uniform'}, {'n_neighbors': 5, 'p': 2, 'weights': 'distance'}, {'n_neighbors': 6, 'p': 1, 'weights': 'uniform'}, {'n_neighbors': 6, 'p': 1, 'weights': 'distance'}, {'n_neighbors': 6, 'p': 2, 'weights': 'uniform'}, {'n_neighbors': 6, 'p': 2, 'weights': 'distance'}, {'n_neighbors': 7, 'p': 1, 'weights': 'uniform'}, {'n_neighbors': 7, 'p': 1, 'weights': 'distance'}, {'n_neighbors': 7, 'p': 2, 'weights': 'uniform'}, {'n_neighbors': 7, 'p': 2, 'weights': 'distance'}, {'n_neighbors': 8, 'p': 1, 'weights': 'uniform'}, {'n_neighbors': 8, 'p': 1, 'weights': 'distance'}, {'n_neighbors': 8, 'p': 2, 'weights': 'uniform'}, {'n_neighbors': 8, 'p': 2, 'weights': 'distance'}, {'n_neighbors': 9, 'p': 1, 'weights': 'uniform'}, {'n_neighbors': 9, 'p': 1, 'weights': 'distance'}, {'n_neighbors': 9, 'p': 2, 'weights': 'uniform'}, {'n_neighbors': 9, 'p': 2, 'weights': 'distance'}, {'n_neighbors': 10, 'p': 1, 'weights': 'uniform'}, {'n_neighbors': 10, 'p': 1, 'weights': 'distance'}, {'n_neighbors': 10, 'p': 2, 'weights': 'uniform'}, {'n_neighbors': 10, 'p': 2, 'weights': 'distance'}], 'split0_test_score': array([1., 1., 1., 1., 1., 1., 1., 1., 1., 1., 1., 1., 1., 1., 1., 1., 1.,\n",
      "       1., 1., 1., 1., 1., 1., 1., 1., 1., 1., 1., 1., 1., 1., 1., 1., 1.,\n",
      "       1., 1., 1., 1., 1., 1.]), 'split1_test_score': array([0.93333333, 0.93333333, 0.93333333, 0.93333333, 0.93333333,\n",
      "       0.93333333, 0.93333333, 0.93333333, 0.93333333, 0.93333333,\n",
      "       0.93333333, 0.93333333, 0.93333333, 0.93333333, 0.93333333,\n",
      "       0.93333333, 0.93333333, 0.93333333, 0.93333333, 0.93333333,\n",
      "       0.93333333, 0.93333333, 0.93333333, 0.93333333, 0.93333333,\n",
      "       0.93333333, 0.93333333, 0.93333333, 0.93333333, 0.93333333,\n",
      "       0.93333333, 0.93333333, 0.93333333, 0.93333333, 0.93333333,\n",
      "       0.93333333, 0.93333333, 0.93333333, 0.93333333, 0.93333333]), 'split2_test_score': array([1., 1., 1., 1., 1., 1., 1., 1., 1., 1., 1., 1., 1., 1., 1., 1., 1.,\n",
      "       1., 1., 1., 1., 1., 1., 1., 1., 1., 1., 1., 1., 1., 1., 1., 1., 1.,\n",
      "       1., 1., 1., 1., 1., 1.]), 'split3_test_score': array([0.93333333, 0.93333333, 0.93333333, 0.93333333, 0.93333333,\n",
      "       0.93333333, 0.93333333, 0.93333333, 0.93333333, 0.93333333,\n",
      "       0.93333333, 0.93333333, 0.93333333, 0.93333333, 0.93333333,\n",
      "       0.93333333, 1.        , 1.        , 1.        , 1.        ,\n",
      "       0.93333333, 0.93333333, 1.        , 1.        , 1.        ,\n",
      "       1.        , 1.        , 1.        , 0.93333333, 0.93333333,\n",
      "       1.        , 1.        , 1.        , 1.        , 1.        ,\n",
      "       1.        , 0.93333333, 0.93333333, 1.        , 1.        ]), 'split4_test_score': array([0.86666667, 0.86666667, 0.86666667, 0.86666667, 0.86666667,\n",
      "       0.86666667, 0.86666667, 0.86666667, 0.86666667, 0.86666667,\n",
      "       0.86666667, 0.86666667, 0.86666667, 0.86666667, 0.86666667,\n",
      "       0.86666667, 0.86666667, 0.86666667, 0.86666667, 0.86666667,\n",
      "       0.86666667, 0.86666667, 0.86666667, 0.86666667, 0.86666667,\n",
      "       0.86666667, 0.86666667, 0.86666667, 1.        , 0.86666667,\n",
      "       1.        , 0.86666667, 1.        , 0.86666667, 1.        ,\n",
      "       0.93333333, 1.        , 0.86666667, 1.        , 0.93333333]), 'split5_test_score': array([1.        , 1.        , 1.        , 1.        , 1.        ,\n",
      "       1.        , 1.        , 1.        , 1.        , 1.        ,\n",
      "       1.        , 1.        , 1.        , 1.        , 1.        ,\n",
      "       1.        , 0.93333333, 0.93333333, 0.93333333, 0.93333333,\n",
      "       0.86666667, 0.93333333, 0.93333333, 0.93333333, 0.86666667,\n",
      "       0.93333333, 0.93333333, 0.93333333, 0.86666667, 0.93333333,\n",
      "       0.86666667, 0.93333333, 0.93333333, 0.93333333, 0.93333333,\n",
      "       0.93333333, 0.86666667, 0.93333333, 0.86666667, 0.93333333]), 'split6_test_score': array([0.86666667, 0.86666667, 0.86666667, 0.86666667, 0.8       ,\n",
      "       0.86666667, 0.86666667, 0.86666667, 0.86666667, 0.86666667,\n",
      "       0.93333333, 0.93333333, 0.8       , 0.86666667, 0.93333333,\n",
      "       0.93333333, 0.93333333, 0.93333333, 0.93333333, 0.93333333,\n",
      "       0.86666667, 0.86666667, 0.93333333, 0.93333333, 0.93333333,\n",
      "       0.93333333, 0.93333333, 0.93333333, 0.86666667, 0.86666667,\n",
      "       0.93333333, 0.93333333, 0.93333333, 0.93333333, 0.93333333,\n",
      "       0.93333333, 0.93333333, 0.93333333, 0.93333333, 0.93333333]), 'split7_test_score': array([1.        , 1.        , 1.        , 1.        , 0.93333333,\n",
      "       1.        , 0.93333333, 1.        , 1.        , 1.        ,\n",
      "       1.        , 1.        , 1.        , 1.        , 1.        ,\n",
      "       1.        , 1.        , 1.        , 1.        , 1.        ,\n",
      "       0.93333333, 1.        , 1.        , 1.        , 0.93333333,\n",
      "       1.        , 1.        , 1.        , 0.93333333, 1.        ,\n",
      "       0.93333333, 1.        , 0.93333333, 1.        , 0.93333333,\n",
      "       1.        , 0.93333333, 1.        , 0.93333333, 1.        ]), 'split8_test_score': array([1., 1., 1., 1., 1., 1., 1., 1., 1., 1., 1., 1., 1., 1., 1., 1., 1.,\n",
      "       1., 1., 1., 1., 1., 1., 1., 1., 1., 1., 1., 1., 1., 1., 1., 1., 1.,\n",
      "       1., 1., 1., 1., 1., 1.]), 'split9_test_score': array([1.        , 1.        , 1.        , 1.        , 0.93333333,\n",
      "       1.        , 1.        , 1.        , 1.        , 1.        ,\n",
      "       1.        , 1.        , 1.        , 1.        , 1.        ,\n",
      "       1.        , 1.        , 1.        , 1.        , 1.        ,\n",
      "       1.        , 1.        , 1.        , 1.        , 1.        ,\n",
      "       1.        , 1.        , 1.        , 1.        , 1.        ,\n",
      "       1.        , 1.        , 1.        , 1.        , 1.        ,\n",
      "       1.        , 1.        , 1.        , 1.        , 1.        ]), 'mean_test_score': array([0.96      , 0.96      , 0.96      , 0.96      , 0.94      ,\n",
      "       0.96      , 0.95333333, 0.96      , 0.96      , 0.96      ,\n",
      "       0.96666667, 0.96666667, 0.95333333, 0.96      , 0.96666667,\n",
      "       0.96666667, 0.96666667, 0.96666667, 0.96666667, 0.96666667,\n",
      "       0.94      , 0.95333333, 0.96666667, 0.96666667, 0.95333333,\n",
      "       0.96666667, 0.96666667, 0.96666667, 0.95333333, 0.95333333,\n",
      "       0.96666667, 0.96666667, 0.97333333, 0.96666667, 0.97333333,\n",
      "       0.97333333, 0.96      , 0.96      , 0.96666667, 0.97333333]), 'std_test_score': array([0.05333333, 0.05333333, 0.05333333, 0.05333333, 0.06289321,\n",
      "       0.05333333, 0.05206833, 0.05333333, 0.05333333, 0.05333333,\n",
      "       0.04472136, 0.04472136, 0.06699917, 0.05333333, 0.04472136,\n",
      "       0.04472136, 0.04472136, 0.04472136, 0.04472136, 0.04472136,\n",
      "       0.05537749, 0.05206833, 0.04472136, 0.04472136, 0.05206833,\n",
      "       0.04472136, 0.04472136, 0.04472136, 0.05206833, 0.05206833,\n",
      "       0.04472136, 0.04472136, 0.03265986, 0.04472136, 0.03265986,\n",
      "       0.03265986, 0.04422166, 0.04422166, 0.04472136, 0.03265986]), 'rank_test_score': array([22, 22, 22, 22, 39, 22, 33, 22, 22, 22,  5,  5, 33, 22,  5,  5,  5,\n",
      "        5,  5,  5, 39, 33,  5,  5, 33,  5,  5,  5, 33, 33,  5,  5,  1,  5,\n",
      "        1,  1, 22, 22,  5,  1]), 'split0_train_score': array([1.        , 1.        , 1.        , 1.        , 0.97037037,\n",
      "       1.        , 0.97037037, 1.        , 0.95555556, 1.        ,\n",
      "       0.95555556, 1.        , 0.94814815, 1.        , 0.95555556,\n",
      "       1.        , 0.96296296, 1.        , 0.96296296, 1.        ,\n",
      "       0.95555556, 1.        , 0.97037037, 1.        , 0.96296296,\n",
      "       1.        , 0.96296296, 1.        , 0.95555556, 1.        ,\n",
      "       0.97037037, 1.        , 0.96296296, 1.        , 0.97037037,\n",
      "       1.        , 0.95555556, 1.        , 0.97037037, 1.        ]), 'split1_train_score': array([1.        , 1.        , 1.        , 1.        , 0.97777778,\n",
      "       1.        , 0.98518519, 1.        , 0.96296296, 1.        ,\n",
      "       0.96296296, 1.        , 0.96296296, 1.        , 0.96296296,\n",
      "       1.        , 0.97037037, 1.        , 0.97037037, 1.        ,\n",
      "       0.95555556, 1.        , 0.97037037, 1.        , 0.97777778,\n",
      "       1.        , 0.97777778, 1.        , 0.96296296, 1.        ,\n",
      "       0.98518519, 1.        , 0.97037037, 1.        , 0.98518519,\n",
      "       1.        , 0.96296296, 1.        , 0.98518519, 1.        ]), 'split2_train_score': array([1.        , 1.        , 1.        , 1.        , 0.97037037,\n",
      "       1.        , 0.97777778, 1.        , 0.95555556, 1.        ,\n",
      "       0.95555556, 1.        , 0.95555556, 1.        , 0.95555556,\n",
      "       1.        , 0.96296296, 1.        , 0.96296296, 1.        ,\n",
      "       0.95555556, 1.        , 0.97037037, 1.        , 0.96296296,\n",
      "       1.        , 0.97037037, 1.        , 0.97037037, 1.        ,\n",
      "       0.97777778, 1.        , 0.97037037, 1.        , 0.97777778,\n",
      "       1.        , 0.97037037, 1.        , 0.97777778, 1.        ]), 'split3_train_score': array([1.        , 1.        , 1.        , 1.        , 0.97777778,\n",
      "       1.        , 0.98518519, 1.        , 0.96296296, 1.        ,\n",
      "       0.96296296, 1.        , 0.96296296, 1.        , 0.96296296,\n",
      "       1.        , 0.97037037, 1.        , 0.97037037, 1.        ,\n",
      "       0.95555556, 1.        , 0.97777778, 1.        , 0.97037037,\n",
      "       1.        , 0.97037037, 1.        , 0.97037037, 1.        ,\n",
      "       0.98518519, 1.        , 0.97777778, 1.        , 0.98518519,\n",
      "       1.        , 0.96296296, 1.        , 0.97777778, 1.        ]), 'split4_train_score': array([1.        , 1.        , 1.        , 1.        , 0.97037037,\n",
      "       1.        , 0.97777778, 1.        , 0.97777778, 1.        ,\n",
      "       0.97777778, 1.        , 0.97037037, 1.        , 0.97777778,\n",
      "       1.        , 0.98518519, 1.        , 0.98518519, 1.        ,\n",
      "       0.97777778, 1.        , 0.98518519, 1.        , 0.98518519,\n",
      "       1.        , 0.98518519, 1.        , 0.96296296, 1.        ,\n",
      "       0.97777778, 1.        , 0.97037037, 1.        , 0.97777778,\n",
      "       1.        , 0.97037037, 1.        , 0.97777778, 1.        ]), 'split5_train_score': array([1.        , 1.        , 1.        , 1.        , 0.96296296,\n",
      "       1.        , 0.97037037, 1.        , 0.95555556, 1.        ,\n",
      "       0.95555556, 1.        , 0.95555556, 1.        , 0.96296296,\n",
      "       1.        , 0.95555556, 1.        , 0.96296296, 1.        ,\n",
      "       0.94814815, 1.        , 0.95555556, 1.        , 0.96296296,\n",
      "       1.        , 0.97037037, 1.        , 0.96296296, 1.        ,\n",
      "       0.97037037, 1.        , 0.96296296, 1.        , 0.97777778,\n",
      "       1.        , 0.96296296, 1.        , 0.97037037, 1.        ]), 'split6_train_score': array([1.        , 1.        , 1.        , 1.        , 0.98518519,\n",
      "       1.        , 0.98518519, 1.        , 0.97037037, 1.        ,\n",
      "       0.97037037, 1.        , 0.97037037, 1.        , 0.97037037,\n",
      "       1.        , 0.97777778, 1.        , 0.97777778, 1.        ,\n",
      "       0.97037037, 1.        , 0.98518519, 1.        , 0.97037037,\n",
      "       1.        , 0.97777778, 1.        , 0.97777778, 1.        ,\n",
      "       0.99259259, 1.        , 0.97777778, 1.        , 0.99259259,\n",
      "       1.        , 0.97037037, 1.        , 0.98518519, 1.        ]), 'split7_train_score': array([1.        , 1.        , 1.        , 1.        , 0.97037037,\n",
      "       1.        , 0.97777778, 1.        , 0.95555556, 1.        ,\n",
      "       0.95555556, 1.        , 0.95555556, 1.        , 0.96296296,\n",
      "       1.        , 0.95555556, 1.        , 0.96296296, 1.        ,\n",
      "       0.96296296, 1.        , 0.97037037, 1.        , 0.97037037,\n",
      "       1.        , 0.97037037, 1.        , 0.94814815, 1.        ,\n",
      "       0.97777778, 1.        , 0.96296296, 1.        , 0.97037037,\n",
      "       1.        , 0.97037037, 1.        , 0.97777778, 1.        ]), 'split8_train_score': array([1.        , 1.        , 1.        , 1.        , 0.97037037,\n",
      "       1.        , 0.97777778, 1.        , 0.95555556, 1.        ,\n",
      "       0.95555556, 1.        , 0.95555556, 1.        , 0.95555556,\n",
      "       1.        , 0.96296296, 1.        , 0.96296296, 1.        ,\n",
      "       0.94814815, 1.        , 0.97037037, 1.        , 0.97037037,\n",
      "       1.        , 0.97037037, 1.        , 0.96296296, 1.        ,\n",
      "       0.97777778, 1.        , 0.96296296, 1.        , 0.97777778,\n",
      "       1.        , 0.96296296, 1.        , 0.97777778, 1.        ]), 'split9_train_score': array([1.        , 1.        , 1.        , 1.        , 0.97037037,\n",
      "       1.        , 0.97777778, 1.        , 0.95555556, 1.        ,\n",
      "       0.95555556, 1.        , 0.95555556, 1.        , 0.97037037,\n",
      "       1.        , 0.96296296, 1.        , 0.97037037, 1.        ,\n",
      "       0.96296296, 1.        , 0.97037037, 1.        , 0.95555556,\n",
      "       1.        , 0.97777778, 1.        , 0.95555556, 1.        ,\n",
      "       0.97777778, 1.        , 0.94814815, 1.        , 0.97777778,\n",
      "       1.        , 0.94074074, 1.        , 0.96296296, 1.        ]), 'mean_train_score': array([1.        , 1.        , 1.        , 1.        , 0.97259259,\n",
      "       1.        , 0.97851852, 1.        , 0.96074074, 1.        ,\n",
      "       0.96074074, 1.        , 0.95925926, 1.        , 0.9637037 ,\n",
      "       1.        , 0.96666667, 1.        , 0.96888889, 1.        ,\n",
      "       0.95925926, 1.        , 0.97259259, 1.        , 0.96888889,\n",
      "       1.        , 0.97333333, 1.        , 0.96296296, 1.        ,\n",
      "       0.97925926, 1.        , 0.96666667, 1.        , 0.97925926,\n",
      "       1.        , 0.96296296, 1.        , 0.9762963 , 1.        ]), 'std_train_score': array([0.        , 0.        , 0.        , 0.        , 0.00578537,\n",
      "       0.        , 0.00518519, 0.        , 0.00744435, 0.        ,\n",
      "       0.00744435, 0.        , 0.00682929, 0.        , 0.00698813,\n",
      "       0.        , 0.0089197 , 0.        , 0.00725775, 0.        ,\n",
      "       0.0089197 , 0.        , 0.00814815, 0.        , 0.00797802,\n",
      "       0.        , 0.00592593, 0.        , 0.00811441, 0.        ,\n",
      "       0.00645763, 0.        , 0.00828173, 0.        , 0.00645763,\n",
      "       0.        , 0.00876456, 0.        , 0.00645763, 0.        ])}\n"
     ]
    }
   ],
   "source": [
    "print(search.cv_results_)"
   ]
  },
  {
   "cell_type": "code",
   "execution_count": 20,
   "metadata": {},
   "outputs": [],
   "source": [
    "from sklearn.model_selection import validation_curve\n",
    "model = KNeighborsClassifier(weights='uniform', \n",
    "                             metric= 'minkowski', p=1)\n",
    "train, test = validation_curve(model, X, y, \n",
    "                               param_name='n_neighbors', \n",
    "                               param_range=range(1, 11), \n",
    "                               cv=10, scoring='accuracy', \n",
    "                               n_jobs=1)"
   ]
  },
  {
   "cell_type": "code",
   "execution_count": 21,
   "metadata": {},
   "outputs": [
    {
     "data": {
      "image/png": "[encoded data removed]",
      "text/plain": [
       "<Figure size 432x288 with 1 Axes>"
      ]
     },
     "metadata": {},
     "output_type": "display_data"
    }
   ],
   "source": [
    "import matplotlib.pyplot as plt\n",
    "mean_train  = np.mean(train,axis=1)\n",
    "mean_test   = np.mean(test,axis=1)\n",
    "plt.plot(range(1,11), mean_train,'ro--', label='Training')\n",
    "plt.plot(range(1,11), mean_test,'bD-.', label='CV')\n",
    "plt.grid()\n",
    "plt.xlabel('Number of neighbors')\n",
    "plt.ylabel('accuracy')\n",
    "plt.legend(loc='upper right', numpoints= 1)\n",
    "plt.show()\n"
   ]
  },
  {
   "cell_type": "markdown",
   "metadata": {},
   "source": [
    "## Trying a randomized search"
   ]
  },
  {
   "cell_type": "code",
   "execution_count": 22,
   "metadata": {},
   "outputs": [
    {
     "data": {
      "text/plain": [
       "RandomizedSearchCV(cv=10, error_score='raise',\n",
       "          estimator=KNeighborsClassifier(algorithm='auto', leaf_size=30, metric='minkowski',\n",
       "           metric_params=None, n_jobs=1, n_neighbors=5, p=2,\n",
       "           weights='uniform'),\n",
       "          fit_params=None, iid=True, n_iter=10, n_jobs=1,\n",
       "          param_distributions={'n_neighbors': range(1, 11), 'weights': ['uniform', 'distance'], 'p': [1, 2]},\n",
       "          pre_dispatch='2*n_jobs', random_state=None, refit=True,\n",
       "          return_train_score='warn', scoring='accuracy', verbose=0)"
      ]
     },
     "execution_count": 22,
     "metadata": {},
     "output_type": "execute_result"
    }
   ],
   "source": [
    "from sklearn.model_selection import RandomizedSearchCV\n",
    "random_search = RandomizedSearchCV(estimator=classifier, \n",
    "                    param_distributions=grid, n_iter=10, \n",
    "    scoring=score_metric, n_jobs=1, refit=True, cv=10, )\n",
    "random_search.fit(X, y)"
   ]
  },
  {
   "cell_type": "code",
   "execution_count": 23,
   "metadata": {},
   "outputs": [
    {
     "name": "stdout",
     "output_type": "stream",
     "text": [
      "Best parameters: {'weights': 'distance', 'p': 2, 'n_neighbors': 5}\n",
      "CV Accuracy of best parameters: 0.967\n"
     ]
    }
   ],
   "source": [
    "print('Best parameters: %s' % random_search.best_params_)\n",
    "print('CV Accuracy of best parameters: %.3f' % \n",
    "      random_search.best_score_)"
   ]
  },
  {
   "cell_type": "code",
   "execution_count": null,
   "metadata": {},
   "outputs": [],
   "source": []
  }
 ],
 "metadata": {
  "kernelspec": {
   "display_name": "Python 3",
   "language": "python",
   "name": "python3"
  },
  "language_info": {
   "codemirror_mode": {
    "name": "ipython",
    "version": 3
   },
   "file_extension": ".py",
   "mimetype": "text/x-python",
   "name": "python",
   "nbconvert_exporter": "python",
   "pygments_lexer": "ipython3",
   "version": "3.6.5"
  }
 },
 "nbformat": 4,
 "nbformat_minor": 1
}
