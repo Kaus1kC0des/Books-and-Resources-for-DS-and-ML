{
 "cells": [
  {
   "cell_type": "markdown",
   "metadata": {},
   "source": [
    "# Guessing the number: linear regression"
   ]
  },
  {
   "cell_type": "markdown",
   "metadata": {},
   "source": [
    "## Using more variables"
   ]
  },
  {
   "cell_type": "code",
   "execution_count": 1,
   "metadata": {},
   "outputs": [],
   "source": [
    "from sklearn.datasets import load_boston\n",
    "from sklearn.preprocessing import scale\n",
    "boston = load_boston()\n",
    "X = scale(boston.data)\n",
    "y = boston.target"
   ]
  },
  {
   "cell_type": "code",
   "execution_count": 2,
   "metadata": {},
   "outputs": [
    {
     "data": {
      "text/plain": [
       "LinearRegression(copy_X=True, fit_intercept=True, n_jobs=1, normalize=True)"
      ]
     },
     "execution_count": 2,
     "metadata": {},
     "output_type": "execute_result"
    }
   ],
   "source": [
    "from sklearn.linear_model import LinearRegression\n",
    "regression = LinearRegression(normalize=True)\n",
    "regression.fit(X, y)"
   ]
  },
  {
   "cell_type": "code",
   "execution_count": 3,
   "metadata": {},
   "outputs": [
    {
     "name": "stdout",
     "output_type": "stream",
     "text": [
      "0.7406077428649428\n"
     ]
    }
   ],
   "source": [
    "print(regression.score(X, y))"
   ]
  },
  {
   "cell_type": "code",
   "execution_count": 4,
   "metadata": {},
   "outputs": [
    {
     "name": "stdout",
     "output_type": "stream",
     "text": [
      "['CRIM:-0.92', 'ZN:1.08', 'INDUS:0.14', 'CHAS:0.68', 'NOX:-2.06', 'RM:2.67', 'AGE:0.02', 'DIS:-3.1', 'RAD:2.66', 'TAX:-2.08', 'PTRATIO:-2.06', 'B:0.86', 'LSTAT:-3.75']\n"
     ]
    }
   ],
   "source": [
    "print([a + ':' + str(round(b, 2)) for a, b in zip(\n",
    "    boston.feature_names, regression.coef_,)])"
   ]
  },
  {
   "cell_type": "markdown",
   "metadata": {},
   "source": [
    "## Understanding limitations and potential problems"
   ]
  },
  {
   "cell_type": "markdown",
   "metadata": {},
   "source": [
    "# Moving to Logistic Regression"
   ]
  },
  {
   "cell_type": "markdown",
   "metadata": {},
   "source": [
    "## Applying logistic regression"
   ]
  },
  {
   "cell_type": "code",
   "execution_count": 5,
   "metadata": {},
   "outputs": [],
   "source": [
    "from sklearn.datasets import load_iris\n",
    "iris = load_iris()\n",
    "X = iris.data[:-1,:]\n",
    "y = iris.target[:-1]"
   ]
  },
  {
   "cell_type": "code",
   "execution_count": 6,
   "metadata": {},
   "outputs": [
    {
     "name": "stdout",
     "output_type": "stream",
     "text": [
      "Predicted class [2], real class 2\n",
      "Probabilities for each class from 0 to 2: [[0.00168787 0.28720074 0.71111138]]\n"
     ]
    }
   ],
   "source": [
    "from sklearn.linear_model import LogisticRegression\n",
    "logistic = LogisticRegression()\n",
    "logistic.fit(X, y)\n",
    "single_row_pred = logistic.predict(\n",
    "    iris.data[-1, :].reshape(1, -1))\n",
    "single_row_pred_proba = logistic.predict_proba(\n",
    "    iris.data[-1, :].reshape(1, -1))\n",
    "print ('Predicted class %s, real class %s' \n",
    "       % (single_row_pred, iris.target[-1]))\n",
    "print ('Probabilities for each class from 0 to 2: %s' \n",
    "       % single_row_pred_proba)"
   ]
  },
  {
   "cell_type": "markdown",
   "metadata": {},
   "source": [
    "## Considering when classes are more than two"
   ]
  },
  {
   "cell_type": "code",
   "execution_count": 7,
   "metadata": {},
   "outputs": [],
   "source": [
    "from sklearn.datasets import load_digits\n",
    "digits = load_digits()\n",
    "train = range(0, 1700)\n",
    "test = range(1700, len(digits.data))\n",
    "X = digits.data[train]\n",
    "y = digits.target[train]\n",
    "tX = digits.data[test]\n",
    "ty = digits.target[test]"
   ]
  },
  {
   "cell_type": "code",
   "execution_count": 8,
   "metadata": {},
   "outputs": [
    {
     "name": "stdout",
     "output_type": "stream",
     "text": [
      "One vs rest accuracy: 0.938\n",
      "One vs one accuracy: 0.969\n"
     ]
    }
   ],
   "source": [
    "from sklearn.multiclass import OneVsRestClassifier \n",
    "from sklearn.multiclass import OneVsOneClassifier\n",
    "OVR = OneVsRestClassifier(logistic).fit(X, y)\n",
    "OVO = OneVsOneClassifier(logistic).fit(X, y)\n",
    "print('One vs rest accuracy: %.3f' % OVR.score(tX, ty))\n",
    "print('One vs one accuracy: %.3f' % OVO.score(tX, ty))"
   ]
  },
  {
   "cell_type": "markdown",
   "metadata": {},
   "source": [
    "# Making Things as Simple as Naïve Bayes"
   ]
  },
  {
   "cell_type": "markdown",
   "metadata": {},
   "source": [
    "## Predicting text classifications"
   ]
  },
  {
   "cell_type": "code",
   "execution_count": 9,
   "metadata": {},
   "outputs": [],
   "source": [
    "from sklearn.datasets import fetch_20newsgroups\n",
    "newsgroups_train = fetch_20newsgroups(\n",
    "    subset='train', remove=('headers', 'footers', 'quotes'))\n",
    "newsgroups_test = fetch_20newsgroups(\n",
    "    subset='test', remove=('headers', 'footers', 'quotes'))"
   ]
  },
  {
   "cell_type": "code",
   "execution_count": 10,
   "metadata": {},
   "outputs": [],
   "source": [
    "from sklearn.naive_bayes import BernoulliNB, MultinomialNB\n",
    "Bernoulli = BernoulliNB(alpha=0.01)\n",
    "Multinomial = MultinomialNB(alpha=0.01)"
   ]
  },
  {
   "cell_type": "code",
   "execution_count": 11,
   "metadata": {},
   "outputs": [],
   "source": [
    "import sklearn.feature_extraction.text as txt\n",
    "multinomial = txt.HashingVectorizer(stop_words='english', \n",
    "                                binary=False, norm=None)\n",
    "binary = txt.HashingVectorizer(stop_words='english',\n",
    "                           binary=True, norm=None)"
   ]
  },
  {
   "cell_type": "code",
   "execution_count": 12,
   "metadata": {},
   "outputs": [],
   "source": [
    "import numpy as np\n",
    "target = newsgroups_train.target\n",
    "target_test = newsgroups_test.target\n",
    "multi_X = np.abs(\n",
    "    multinomial.transform(newsgroups_train.data))\n",
    "multi_Xt = np.abs(\n",
    "    multinomial.transform(newsgroups_test.data))\n",
    "bin_X = binary.transform(newsgroups_train.data)\n",
    "bin_Xt = binary.transform(newsgroups_test.data)"
   ]
  },
  {
   "cell_type": "code",
   "execution_count": 13,
   "metadata": {},
   "outputs": [
    {
     "name": "stdout",
     "output_type": "stream",
     "text": [
      "Accuracy for BernoulliNB: 0.570\n",
      "Accuracy for MultinomialNB: 0.651\n"
     ]
    }
   ],
   "source": [
    "Multinomial.fit(multi_X, target)\n",
    "Bernoulli.fit(bin_X, target)\n",
    "\n",
    "from sklearn.metrics import accuracy_score\n",
    "for name, model, data in [('BernoulliNB', Bernoulli, bin_Xt), \n",
    "                      ('MultinomialNB', Multinomial, multi_Xt)]:\n",
    "    accuracy = accuracy_score(y_true=target_test, \n",
    "                              y_pred=model.predict(data))\n",
    "    print ('Accuracy for %s: %.3f' % (name, accuracy))"
   ]
  },
  {
   "cell_type": "code",
   "execution_count": 14,
   "metadata": {},
   "outputs": [
    {
     "name": "stdout",
     "output_type": "stream",
     "text": [
      "number of posts in training: 11314\n",
      "number of distinct words in training: 300972\n",
      "number of posts in test: 7532\n"
     ]
    }
   ],
   "source": [
    "print('number of posts in training: %i' \n",
    "      % len(newsgroups_train.data))\n",
    "D={word:True for post in newsgroups_train.data \n",
    "   for word in post.split(' ')}\n",
    "print('number of distinct words in training: %i' \n",
    "      % len(D))\n",
    "print('number of posts in test: %i' \n",
    "      % len(newsgroups_test.data))"
   ]
  },
  {
   "cell_type": "markdown",
   "metadata": {},
   "source": [
    "# Exploring Lazy Learning with K-nearest Neighbors"
   ]
  },
  {
   "cell_type": "markdown",
   "metadata": {},
   "source": [
    "## Predicting after observing neighbors"
   ]
  },
  {
   "cell_type": "code",
   "execution_count": 15,
   "metadata": {},
   "outputs": [],
   "source": [
    "from sklearn.datasets import load_digits\n",
    "from sklearn.decomposition import PCA\n",
    "digits = load_digits()\n",
    "train = range(0, 1700)\n",
    "test = range(1700, len(digits.data))\n",
    "pca = PCA(n_components = 25)\n",
    "pca.fit(digits.data[train])\n",
    "X = pca.transform(digits.data[train]) \n",
    "y = digits.target[train]\n",
    "tX = pca.transform(digits.data[test]) \n",
    "ty = digits.target[test]"
   ]
  },
  {
   "cell_type": "code",
   "execution_count": 16,
   "metadata": {},
   "outputs": [
    {
     "data": {
      "text/plain": [
       "KNeighborsClassifier(algorithm='auto', leaf_size=30, metric='minkowski',\n",
       "           metric_params=None, n_jobs=1, n_neighbors=5, p=2,\n",
       "           weights='uniform')"
      ]
     },
     "execution_count": 16,
     "metadata": {},
     "output_type": "execute_result"
    }
   ],
   "source": [
    "from sklearn.neighbors import KNeighborsClassifier\n",
    "kNN = KNeighborsClassifier(n_neighbors=5, p=2)\n",
    "kNN.fit(X, y)"
   ]
  },
  {
   "cell_type": "code",
   "execution_count": 17,
   "metadata": {},
   "outputs": [
    {
     "name": "stdout",
     "output_type": "stream",
     "text": [
      "Accuracy: 0.990\n",
      "Prediction: [2 2 5 7 9 5 4 8 1 4 9 0 8 9 8] Actual: [2 2 5 7 9 5 4 8 8 4 9 0 8 9 8]\n"
     ]
    }
   ],
   "source": [
    "print('Accuracy: %.3f' % kNN.score(tX,ty) )\n",
    "print('Prediction: %s Actual: %s' \n",
    "      % (kNN.predict(tX[-15:,:]),ty[-15:]))"
   ]
  },
  {
   "cell_type": "markdown",
   "metadata": {},
   "source": [
    "## Choosing wisely your k parameter"
   ]
  },
  {
   "cell_type": "code",
   "execution_count": 18,
   "metadata": {},
   "outputs": [
    {
     "name": "stdout",
     "output_type": "stream",
     "text": [
      "for k =   1 accuracy is 0.979\n",
      "for k =   5 accuracy is 0.990\n",
      "for k =  10 accuracy is 0.969\n",
      "for k =  50 accuracy is 0.959\n",
      "for k = 100 accuracy is 0.959\n",
      "for k = 200 accuracy is 0.907\n"
     ]
    }
   ],
   "source": [
    "for k in [1, 5, 10, 50, 100, 200]:\n",
    "    kNN = KNeighborsClassifier(n_neighbors=k).fit(X, y)\n",
    "    print('for k = %3i accuracy is %.3f' \n",
    "          % (k, kNN.score(tX, ty)))"
   ]
  }
 ],
 "metadata": {
  "kernelspec": {
   "display_name": "Python [default]",
   "language": "python",
   "name": "python3"
  },
  "language_info": {
   "codemirror_mode": {
    "name": "ipython",
    "version": 3
   },
   "file_extension": ".py",
   "mimetype": "text/x-python",
   "name": "python",
   "nbconvert_exporter": "python",
   "pygments_lexer": "ipython3",
   "version": "3.6.6"
  }
 },
 "nbformat": 4,
 "nbformat_minor": 1
}
