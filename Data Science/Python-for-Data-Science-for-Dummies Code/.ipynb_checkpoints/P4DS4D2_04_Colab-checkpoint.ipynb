{
 "cells": [
  {
   "cell_type": "markdown",
   "metadata": {
    "colab_type": "text",
    "id": "7xG7Zkdk-tF_"
   },
   "source": [
    "# Performing Common Tasks"
   ]
  },
  {
   "cell_type": "markdown",
   "metadata": {
    "colab_type": "text",
    "id": "6yaQ57vmAsdC"
   },
   "source": [
    "## Creating code cells"
   ]
  },
  {
   "cell_type": "code",
   "execution_count": 1,
   "metadata": {
    "colab": {
     "base_uri": "https://localhost:8080/",
     "height": 34
    },
    "colab_type": "code",
    "id": "PwvaI-nF1ZaM",
    "outputId": "1055ca4a-913e-4f14-974a-7dbcb17b76e7"
   },
   "outputs": [
    {
     "name": "stdout",
     "output_type": "stream",
     "text": [
      "Hello There!\n"
     ]
    }
   ],
   "source": [
    "print('Hello There!')"
   ]
  },
  {
   "cell_type": "markdown",
   "metadata": {
    "colab_type": "text",
    "id": "26ktBf7OAk2z"
   },
   "source": [
    "## Creating text cells"
   ]
  },
  {
   "cell_type": "markdown",
   "metadata": {
    "colab_type": "text",
    "id": "fGf8EzC3BSNB"
   },
   "source": [
    "## Creating special cells"
   ]
  },
  {
   "cell_type": "markdown",
   "metadata": {
    "colab_type": "text",
    "id": "_ccCNVKnBWOB"
   },
   "source": [
    "### Working with headings"
   ]
  },
  {
   "cell_type": "markdown",
   "metadata": {
    "colab_type": "text",
    "id": "jdcRF2WiBciq"
   },
   "source": [
    "### Working with table of contents"
   ]
  },
  {
   "cell_type": "markdown",
   "metadata": {
    "colab_type": "toc",
    "id": "2rdZ0d-NBgTK"
   },
   "source": [
    ">[Performing Common Tasks](#scrollTo=7xG7Zkdk-tF_)\n",
    "\n",
    ">>[Creating code cells](#scrollTo=6yaQ57vmAsdC)\n",
    "\n",
    ">>[Creating text cells](#scrollTo=26ktBf7OAk2z)\n",
    "\n",
    ">>[Creating special cells](#scrollTo=fGf8EzC3BSNB)\n",
    "\n",
    ">>>[Working with headings](#scrollTo=_ccCNVKnBWOB)\n",
    "\n",
    ">>>[Working with table of contents](#scrollTo=jdcRF2WiBciq)\n",
    "\n"
   ]
  }
 ],
 "metadata": {
  "colab": {
   "name": "P4DS4D2_04_Colab.ipynb",
   "provenance": [],
   "version": "0.3.2"
  },
  "kernelspec": {
   "display_name": "Python 3",
   "language": "python",
   "name": "python3"
  },
  "language_info": {
   "codemirror_mode": {
    "name": "ipython",
    "version": 3
   },
   "file_extension": ".py",
   "mimetype": "text/x-python",
   "name": "python",
   "nbconvert_exporter": "python",
   "pygments_lexer": "ipython3",
   "version": "3.7.3"
  }
 },
 "nbformat": 4,
 "nbformat_minor": 1
}
